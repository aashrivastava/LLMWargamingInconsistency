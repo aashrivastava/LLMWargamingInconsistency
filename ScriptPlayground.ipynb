{
 "cells": [
  {
   "cell_type": "code",
   "execution_count": 5,
   "id": "ffa369de",
   "metadata": {},
   "outputs": [],
   "source": [
    "%load_ext autoreload\n",
    "%autoreload 2"
   ]
  },
  {
   "cell_type": "code",
   "execution_count": 6,
   "id": "bd22f2b9-7d3e-4ded-8820-66eae92cc7c7",
   "metadata": {},
   "outputs": [],
   "source": [
    "from metrics.BERTScoreEval import BERTScoreEval\n",
    "from metrics.BiDirectionalEntailmentEval import BiDirectionalEntailmentEval\n",
    "from metrics.MQAGEval import MQAGEval\n",
    "from metrics.RankEval import RankEval\n",
    "from utils.promptopenai import OpenAIPrompting"
   ]
  },
  {
   "cell_type": "code",
   "execution_count": 7,
   "id": "dfe766ac",
   "metadata": {},
   "outputs": [
    {
     "name": "stdout",
     "output_type": "stream",
     "text": [
      "Initalizing BERTScore Evaluator...\n"
     ]
    },
    {
     "name": "stderr",
     "output_type": "stream",
     "text": [
      "Some weights of RobertaModel were not initialized from the model checkpoint at roberta-large and are newly initialized: ['roberta.pooler.dense.bias', 'roberta.pooler.dense.weight']\n",
      "You should probably TRAIN this model on a down-stream task to be able to use it for predictions and inference.\n"
     ]
    },
    {
     "name": "stdout",
     "output_type": "stream",
     "text": [
      "BERTScore Evaluator Initialized to cpu\n",
      "Initializing BiDirectional Entailment Evaluator...\n",
      "BiDirectional Entailment Evaluator initialized to cpu\n"
     ]
    }
   ],
   "source": [
    "bert_evaluator = BERTScoreEval()\n",
    "bi_evaluator=  BiDirectionalEntailmentEval()\n",
    "# MQAG_evaluator = MQAGEval()\n",
    "rank_evaluator = RankEval()"
   ]
  },
  {
   "cell_type": "code",
   "execution_count": 8,
   "id": "45314b1f",
   "metadata": {},
   "outputs": [],
   "source": [
    "ref = 'I think we should go to the store'\n",
    "contradict = 'I do not think we should go to the store'\n",
    "neutral = 'The mercedes is a good car'\n",
    "entails = 'I believe going to the store is a good idea'\n",
    "responses1 = [ref, entails, contradict, neutral]"
   ]
  },
  {
   "cell_type": "code",
   "execution_count": 12,
   "id": "657d42ea",
   "metadata": {},
   "outputs": [],
   "source": [
    "responses2 = ['Love.', 'love', 'unknown', 'Experience', 'Experience']"
   ]
  },
  {
   "cell_type": "code",
   "execution_count": 9,
   "id": "24d6bd5c",
   "metadata": {},
   "outputs": [
    {
     "name": "stderr",
     "output_type": "stream",
     "text": [
      "Creating Pairs...: 4it [00:00, 86928.58it/s]\n",
      "Calculating BERTEval...:   0%|          | 0/6 [00:00<?, ?it/s]"
     ]
    },
    {
     "name": "stderr",
     "output_type": "stream",
     "text": [
      "Calculating BERTEval...: 100%|██████████| 6/6 [00:05<00:00,  1.08it/s]\n"
     ]
    },
    {
     "data": {
      "text/plain": [
       "0.5268082395195961"
      ]
     },
     "execution_count": 9,
     "metadata": {},
     "output_type": "execute_result"
    }
   ],
   "source": [
    "bert_evaluator.aggregate(responses, verbose=True)"
   ]
  },
  {
   "cell_type": "code",
   "execution_count": 20,
   "id": "0feb16a6",
   "metadata": {},
   "outputs": [
    {
     "name": "stderr",
     "output_type": "stream",
     "text": [
      "Creating Equivalence Classes...: 100%|██████████| 4/4 [00:07<00:00,  1.95s/it]"
     ]
    },
    {
     "name": "stdout",
     "output_type": "stream",
     "text": [
      "[['Love.', 'love'], ['unknown'], ['Experience', 'Experience']]\n",
      "0.8\n"
     ]
    },
    {
     "name": "stderr",
     "output_type": "stream",
     "text": [
      "\n"
     ]
    }
   ],
   "source": [
    "print(bi_evaluator.aggregate(responses2, verbose=True))"
   ]
  },
  {
   "cell_type": "code",
   "execution_count": null,
   "id": "bb826fdf",
   "metadata": {},
   "outputs": [],
   "source": []
  }
 ],
 "metadata": {
  "kernelspec": {
   "display_name": "Python 3 (ipykernel)",
   "language": "python",
   "name": "python3"
  },
  "language_info": {
   "codemirror_mode": {
    "name": "ipython",
    "version": 3
   },
   "file_extension": ".py",
   "mimetype": "text/x-python",
   "name": "python",
   "nbconvert_exporter": "python",
   "pygments_lexer": "ipython3",
   "version": "3.12.1"
  }
 },
 "nbformat": 4,
 "nbformat_minor": 5
}
