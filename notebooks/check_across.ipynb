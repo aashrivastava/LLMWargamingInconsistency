{
 "cells": [
  {
   "cell_type": "code",
   "execution_count": 2,
   "id": "636eb744-01f4-4c18-b443-7f40eca52c5b",
   "metadata": {},
   "outputs": [
    {
     "name": "stdout",
     "output_type": "stream",
     "text": [
      "The autoreload extension is already loaded. To reload it, use:\n",
      "  %reload_ext autoreload\n"
     ]
    }
   ],
   "source": [
    "%load_ext autoreload\n",
    "%autoreload 2"
   ]
  },
  {
   "cell_type": "code",
   "execution_count": 3,
   "id": "04fd15f4-8dd9-46a3-b2d2-2204dee85d09",
   "metadata": {},
   "outputs": [],
   "source": [
    "import numpy as np\n",
    "from metrics.BERTScoreEval import BERTScoreEval\n",
    "from metrics.RankEval import RankEval\n",
    "from metrics.BiDirectionalEntailmentEval import BiDirectionalEntailmentEval\n",
    "from utils.parse_csv import Parser"
   ]
  },
  {
   "cell_type": "code",
   "execution_count": 4,
   "id": "38bc120a-2170-4a5b-b455-3aa72ba87043",
   "metadata": {},
   "outputs": [],
   "source": [
    "parser = Parser()"
   ]
  },
  {
   "cell_type": "code",
   "execution_count": 5,
   "id": "0451dc95-e704-4713-9676-58b6888062ad",
   "metadata": {},
   "outputs": [],
   "source": [
    "rankeval = RankEval()"
   ]
  },
  {
   "cell_type": "code",
   "execution_count": 28,
   "id": "0a9fc957-6632-4f12-9ca8-81d78aca7f6b",
   "metadata": {},
   "outputs": [],
   "source": [
    "def check_rank_across(direxp, diranon, save_path):\n",
    "    m1exp, m2exp = parser.parse_rankings(direxp)\n",
    "    m1anon, m2anon = parser.parse_rankings(diranon)\n",
    "\n",
    "    np.savez(f'{save_path}/matrices.npz', \n",
    "             move1=rankeval.get_metric_across(m1exp, m1anon),\n",
    "             move2 = rankeval.get_metric_across(m2exp, m2anon))"
   ]
  },
  {
   "cell_type": "code",
   "execution_count": 29,
   "id": "01f6f770-7dab-4d80-82c6-f1f23f0c90f0",
   "metadata": {},
   "outputs": [],
   "source": [
    "go_through = [\n",
    "    ('/Users/aryanshrivastava/Desktop/LLMWargamingConfidence/logging/outputs/v4/gpt3.5turbo-rank-True-20-1.0/run1.csv',\n",
    "     '/Users/aryanshrivastava/Desktop/LLMWargamingConfidence/logging/outputs/v4/gpt3.5turbo-rank-False-20-1.0/run1.csv',\n",
    "     '/Users/aryanshrivastava/Desktop/LLMWargamingConfidence/logging/across/3.5trank'),\n",
    "    ('/Users/aryanshrivastava/Desktop/LLMWargamingConfidence/logging/outputs/v4/gpt4-rank-True-20-1.0/run1.csv',\n",
    "     '/Users/aryanshrivastava/Desktop/LLMWargamingConfidence/logging/outputs/v4/gpt4-rank-False-20-1.0/run1.csv',\n",
    "     '/Users/aryanshrivastava/Desktop/LLMWargamingConfidence/logging/across/4rank'),\n",
    "    ('/Users/aryanshrivastava/Desktop/LLMWargamingConfidence/logging/outputs/v4/claude35sonnet-rank-True-20-1.0/run1.csv',\n",
    "     '/Users/aryanshrivastava/Desktop/LLMWargamingConfidence/logging/outputs/v4/claude35sonnet-rank-False-20-1.0/run1.csv',\n",
    "     '/Users/aryanshrivastava/Desktop/LLMWargamingConfidence/logging/across/sonnetrank')\n",
    "]"
   ]
  },
  {
   "cell_type": "code",
   "execution_count": 30,
   "id": "bf275b5d-c326-4e16-a803-08f8e28c9270",
   "metadata": {},
   "outputs": [],
   "source": [
    "for e, a, s in go_through:\n",
    "    check_rank_across(e, a, s)"
   ]
  },
  {
   "cell_type": "code",
   "execution_count": 31,
   "id": "7ea2dd3c-be4f-48e1-8280-6645dec54d6f",
   "metadata": {},
   "outputs": [
    {
     "name": "stdout",
     "output_type": "stream",
     "text": [
      "Initalizing BERTScore Evaluator...\n"
     ]
    },
    {
     "name": "stderr",
     "output_type": "stream",
     "text": [
      "Some weights of RobertaModel were not initialized from the model checkpoint at roberta-large and are newly initialized: ['roberta.pooler.dense.bias', 'roberta.pooler.dense.weight']\n",
      "You should probably TRAIN this model on a down-stream task to be able to use it for predictions and inference.\n"
     ]
    },
    {
     "name": "stdout",
     "output_type": "stream",
     "text": [
      "BERTScore Evaluator Initialized to cpu\n"
     ]
    }
   ],
   "source": [
    "berteval = BERTScoreEval()"
   ]
  },
  {
   "cell_type": "code",
   "execution_count": 32,
   "id": "7db5780a-cd14-4c79-928c-f7ef1880ad17",
   "metadata": {},
   "outputs": [],
   "source": [
    "def check_bert_across(direxp, diranon, save_path):\n",
    "    m1exp, m2exp = parser.parse_free(direxp)\n",
    "    m1anon, m2anon = parser.parse_free(diranon)\n",
    "\n",
    "    np.savez(f'{save_path}/matrices.npz', \n",
    "             move1=berteval.get_berts_across(m1exp, m1anon),\n",
    "             move2 = berteval.get_berts_across(m2exp, m2anon))"
   ]
  },
  {
   "cell_type": "code",
   "execution_count": 33,
   "id": "b3d2290a-e996-4cff-83f6-2710a54ad92b",
   "metadata": {},
   "outputs": [],
   "source": [
    "go_through = [\n",
    "    ('/Users/aryanshrivastava/Desktop/LLMWargamingConfidence/logging/outputs/v4/gpt3.5turbo-free-True-20-1.0/run1.csv',\n",
    "     '/Users/aryanshrivastava/Desktop/LLMWargamingConfidence/logging/outputs/v4/gpt3.5turbo-free-False-20-1.0/run1.csv',\n",
    "     '/Users/aryanshrivastava/Desktop/LLMWargamingConfidence/logging/across/3.5tfree'),\n",
    "    ('/Users/aryanshrivastava/Desktop/LLMWargamingConfidence/logging/outputs/v4/gpt4-free-True-20-1.0/run1.csv',\n",
    "     '/Users/aryanshrivastava/Desktop/LLMWargamingConfidence/logging/outputs/v4/gpt4-free-False-20-1.0/run1.csv',\n",
    "     '/Users/aryanshrivastava/Desktop/LLMWargamingConfidence/logging/across/4free'),\n",
    "    ('/Users/aryanshrivastava/Desktop/LLMWargamingConfidence/logging/outputs/v4/claude35sonnet-free-True-20-1.0/run1.csv',\n",
    "     '/Users/aryanshrivastava/Desktop/LLMWargamingConfidence/logging/outputs/v4/claude35sonnet-free-False-20-1.0/run1.csv',\n",
    "     '/Users/aryanshrivastava/Desktop/LLMWargamingConfidence/logging/across/sonnetfree')\n",
    "]"
   ]
  },
  {
   "cell_type": "code",
   "execution_count": 34,
   "id": "128a919f-16de-455e-a591-aa7a7d8025de",
   "metadata": {},
   "outputs": [
    {
     "name": "stdout",
     "output_type": "stream",
     "text": [
      "done\n",
      "done\n",
      "done\n",
      "done\n",
      "done\n",
      "done\n"
     ]
    }
   ],
   "source": [
    "for e, a, s in go_through:\n",
    "    check_bert_across(e, a, s)"
   ]
  },
  {
   "cell_type": "code",
   "execution_count": 35,
   "id": "c9492498-07ae-4f05-a64f-34de211dd0db",
   "metadata": {},
   "outputs": [],
   "source": [
    "rankeval = RankEval()"
   ]
  },
  {
   "cell_type": "code",
   "execution_count": 39,
   "id": "4826839a-a942-494d-8821-b79d9cff07bb",
   "metadata": {},
   "outputs": [],
   "source": [
    "def check_rank_across(direxp, diranon, save_path):\n",
    "    m1exp, m2exp = parser.parse_rankings(direxp)\n",
    "    m1anon, m2anon = parser.parse_rankings(diranon)\n",
    "\n",
    "    np.savez(f'{save_path}/kendallmatrices.npz', \n",
    "             move1=rankeval.get_metric_across(m1exp, m1anon),\n",
    "             move2 = rankeval.get_metric_across(m2exp, m2anon))"
   ]
  },
  {
   "cell_type": "code",
   "execution_count": 40,
   "id": "927478da-6e22-4036-8496-dfa089cee16a",
   "metadata": {},
   "outputs": [],
   "source": [
    "go_through = [\n",
    "    ('/Users/aryanshrivastava/Desktop/LLMWargamingConfidence/logging/outputs/v4/gpt3.5turbo-rank-True-20-1.0/run1.csv',\n",
    "     '/Users/aryanshrivastava/Desktop/LLMWargamingConfidence/logging/outputs/v4/gpt3.5turbo-rank-False-20-1.0/run1.csv',\n",
    "     '/Users/aryanshrivastava/Desktop/LLMWargamingConfidence/logging/across/3.5trank'),\n",
    "    ('/Users/aryanshrivastava/Desktop/LLMWargamingConfidence/logging/outputs/v4/gpt4-rank-True-20-1.0/run1.csv',\n",
    "     '/Users/aryanshrivastava/Desktop/LLMWargamingConfidence/logging/outputs/v4/gpt4-rank-False-20-1.0/run1.csv',\n",
    "     '/Users/aryanshrivastava/Desktop/LLMWargamingConfidence/logging/across/4rank'),\n",
    "    ('/Users/aryanshrivastava/Desktop/LLMWargamingConfidence/logging/outputs/v4/claude35sonnet-rank-True-20-1.0/run1.csv',\n",
    "     '/Users/aryanshrivastava/Desktop/LLMWargamingConfidence/logging/outputs/v4/claude35sonnet-rank-False-20-1.0/run1.csv',\n",
    "     '/Users/aryanshrivastava/Desktop/LLMWargamingConfidence/logging/across/sonnetrank')\n",
    "]"
   ]
  }
 ],
 "metadata": {
  "kernelspec": {
   "display_name": "Python 3 (ipykernel)",
   "language": "python",
   "name": "python3"
  },
  "language_info": {
   "codemirror_mode": {
    "name": "ipython",
    "version": 3
   },
   "file_extension": ".py",
   "mimetype": "text/x-python",
   "name": "python",
   "nbconvert_exporter": "python",
   "pygments_lexer": "ipython3",
   "version": "3.12.1"
  }
 },
 "nbformat": 4,
 "nbformat_minor": 5
}
