{
 "cells": [
  {
   "cell_type": "code",
   "execution_count": 1,
   "id": "ffa369de",
   "metadata": {},
   "outputs": [],
   "source": [
    "%load_ext autoreload\n",
    "%autoreload 2"
   ]
  },
  {
   "cell_type": "markdown",
   "id": "801d14f5",
   "metadata": {},
   "source": []
  },
  {
   "cell_type": "code",
   "execution_count": 2,
   "id": "bd22f2b9-7d3e-4ded-8820-66eae92cc7c7",
   "metadata": {},
   "outputs": [
    {
     "name": "stderr",
     "output_type": "stream",
     "text": [
      "/Users/aryanshrivastava/.venv/LLMWargamingConfidence/lib/python3.12/site-packages/tqdm/auto.py:21: TqdmWarning: IProgress not found. Please update jupyter and ipywidgets. See https://ipywidgets.readthedocs.io/en/stable/user_install.html\n",
      "  from .autonotebook import tqdm as notebook_tqdm\n"
     ]
    }
   ],
   "source": [
    "from consistency import ConsistencyEval\n",
    "import os"
   ]
  },
  {
   "cell_type": "code",
   "execution_count": 3,
   "id": "fb0bdd9f",
   "metadata": {},
   "outputs": [
    {
     "name": "stdout",
     "output_type": "stream",
     "text": [
      "sk-proj-bBT7ClSfQApI7QFTqMTvT3BlbkFJP2O5nkRURXEMFrEETuPB\n"
     ]
    }
   ],
   "source": [
    "print(os.environ.get('OPENAI_API_KEY'))"
   ]
  },
  {
   "cell_type": "code",
   "execution_count": 4,
   "id": "45314b1f",
   "metadata": {},
   "outputs": [],
   "source": [
    "ref = 'I think we should go to the store'\n",
    "contradict = 'I do not think we should go to the store'\n",
    "neutral = 'The mercedes is a good car'\n",
    "entails = 'I believe going to the store is a good idea'\n",
    "responses1 = [ref, entails, contradict, neutral]"
   ]
  },
  {
   "cell_type": "code",
   "execution_count": 5,
   "id": "657d42ea",
   "metadata": {},
   "outputs": [],
   "source": [
    "responses2 = ['Love.', 'love', 'unknown', 'Experience', 'Experience']"
   ]
  },
  {
   "cell_type": "code",
   "execution_count": 6,
   "id": "208f4a55",
   "metadata": {},
   "outputs": [
    {
     "name": "stdout",
     "output_type": "stream",
     "text": [
      "Initalizing BERTScore Evaluator...\n"
     ]
    },
    {
     "name": "stderr",
     "output_type": "stream",
     "text": [
      "Some weights of RobertaModel were not initialized from the model checkpoint at roberta-large and are newly initialized: ['roberta.pooler.dense.bias', 'roberta.pooler.dense.weight']\n",
      "You should probably TRAIN this model on a down-stream task to be able to use it for predictions and inference.\n"
     ]
    },
    {
     "name": "stdout",
     "output_type": "stream",
     "text": [
      "BERTScore Evaluator Initialized to cpu\n"
     ]
    }
   ],
   "source": [
    "evaluator = ConsistencyEval('gpt-3.5-turbo', 'bert')"
   ]
  },
  {
   "cell_type": "code",
   "execution_count": 12,
   "id": "3c9f9cf9",
   "metadata": {},
   "outputs": [
    {
     "name": "stdout",
     "output_type": "stream",
     "text": [
      "['Hello.', 'Hello.', 'Hello.', 'Hello', 'Greetings', 'Sure', 'Hello.', 'Hello']\n",
      "0.2935921294348581\n"
     ]
    }
   ],
   "source": [
    "print(evaluator.main({'system': 'Respond with no more than 1 word', 'user': 'say any word of your choice.'}))"
   ]
  },
  {
   "cell_type": "code",
   "execution_count": null,
   "id": "4f58dbdd",
   "metadata": {},
   "outputs": [],
   "source": []
  }
 ],
 "metadata": {
  "kernelspec": {
   "display_name": "Python 3 (ipykernel)",
   "language": "python",
   "name": "python3"
  },
  "language_info": {
   "codemirror_mode": {
    "name": "ipython",
    "version": 3
   },
   "file_extension": ".py",
   "mimetype": "text/x-python",
   "name": "python",
   "nbconvert_exporter": "python",
   "pygments_lexer": "ipython3",
   "version": "3.12.1"
  }
 },
 "nbformat": 4,
 "nbformat_minor": 5
}
