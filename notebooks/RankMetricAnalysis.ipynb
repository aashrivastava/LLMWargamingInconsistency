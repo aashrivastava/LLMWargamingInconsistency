{
 "cells": [
  {
   "cell_type": "code",
   "execution_count": 1,
   "id": "9a2397c5",
   "metadata": {},
   "outputs": [],
   "source": [
    "%load_ext autoreload\n",
    "%autoreload 2"
   ]
  },
  {
   "cell_type": "code",
   "execution_count": 11,
   "id": "ecfdb08e-308d-4d33-8e11-9802fb38d814",
   "metadata": {},
   "outputs": [],
   "source": [
    "import math\n",
    "import random\n",
    "import matplotlib.pyplot as plt\n",
    "from matplotlib.backends.backend_pdf import PdfPages\n",
    "import seaborn as sns\n",
    "from metrics.RankEval import RankEval\n",
    "from utils.EvalsBase import EvaluatorBasics\n",
    "import numpy as np"
   ]
  },
  {
   "cell_type": "code",
   "execution_count": 64,
   "id": "1f0f19bd",
   "metadata": {},
   "outputs": [],
   "source": [
    "diff_n_categories = [i * 5 for i in range(1, 10)]\n",
    "diff_n_samples = [i*2 for i in range(2, 18)]"
   ]
  },
  {
   "cell_type": "markdown",
   "id": "dc080c14",
   "metadata": {},
   "source": [
    "# Kendall's Tau"
   ]
  },
  {
   "cell_type": "code",
   "execution_count": 3,
   "id": "2fe8d7af-2018-4dd1-b741-a79d47f7d6cb",
   "metadata": {},
   "outputs": [],
   "source": [
    "evaluator = RankEval()"
   ]
  },
  {
   "cell_type": "code",
   "execution_count": 66,
   "id": "80f080e7",
   "metadata": {},
   "outputs": [
    {
     "data": {
      "text/plain": [
       "<contextlib.ExitStack at 0x17b6cf7d0>"
      ]
     },
     "execution_count": 66,
     "metadata": {},
     "output_type": "execute_result"
    }
   ],
   "source": [
    "plt.ioff()"
   ]
  },
  {
   "cell_type": "code",
   "execution_count": 39,
   "id": "1a9b8c3e",
   "metadata": {},
   "outputs": [],
   "source": [
    "a = 19\n",
    "n = 1000"
   ]
  },
  {
   "cell_type": "code",
   "execution_count": 40,
   "id": "7a2be94e",
   "metadata": {},
   "outputs": [],
   "source": [
    "categories = [f'cat{i+1}' for i in range(a)]\n",
    "rand_rankings = [{cat: i+1 for i, cat in enumerate(random.sample(categories, a))} for i in range(n)]\n",
    "rand_pairs = evaluator.create_unique_pairs(rand_rankings)"
   ]
  },
  {
   "cell_type": "code",
   "execution_count": 41,
   "id": "7003174e",
   "metadata": {},
   "outputs": [],
   "source": [
    "tau_dist = [evaluator._kendalls_tau(r1, r2) for r1, r2 in rand_pairs]\n",
    "tau_dist = np.array(tau_dist)"
   ]
  },
  {
   "cell_type": "code",
   "execution_count": 42,
   "id": "dd10c910",
   "metadata": {},
   "outputs": [
    {
     "data": {
      "text/plain": [
       "0.14035087719298245"
      ]
     },
     "execution_count": 42,
     "metadata": {},
     "output_type": "execute_result"
    }
   ],
   "source": [
    "min(tau_dist)"
   ]
  },
  {
   "cell_type": "code",
   "execution_count": 18,
   "id": "61fc0609",
   "metadata": {},
   "outputs": [
    {
     "data": {
      "text/plain": [
       "<Axes: ylabel='Density'>"
      ]
     },
     "execution_count": 18,
     "metadata": {},
     "output_type": "execute_result"
    },
    {
     "data": {
      "image/png": "[encoded data removed]",
      "text/plain": [
       "<Figure size 640x480 with 1 Axes>"
      ]
     },
     "metadata": {},
     "output_type": "display_data"
    }
   ],
   "source": [
    "sns.kdeplot(tau_dist)"
   ]
  },
  {
   "cell_type": "code",
   "execution_count": 67,
   "id": "63c1661e",
   "metadata": {},
   "outputs": [
    {
     "name": "stdout",
     "output_type": "stream",
     "text": [
      "done\n"
     ]
    }
   ],
   "source": [
    "with PdfPages('Kendall_Tau_Distributions2.pdf') as pdf:\n",
    "    for n_cat in diff_n_categories:\n",
    "        for n in diff_n_samples:\n",
    "            categories = [f'cat{i+1}' for i in range(n_cat)]\n",
    "            rand_rankings = [{cat: i+1 for i, cat in enumerate(random.sample(categories, n_cat))} for i in range(n)]\n",
    "            tau_dist = evaluator._for_analysis(rand_rankings)\n",
    "            true, one_minus = tau_dist\n",
    "            fig, axes = plt.subplots(1, 2, figsize=(12, 6))\n",
    "\n",
    "            sns.kdeplot(true, fill=True, ax=axes[0])\n",
    "            axes[0].set_title(f'Distribution of Kendall\\'s Tau for\\n{n_cat} categories and {n} samples')\n",
    "            axes[0].set_xlabel('Value')\n",
    "            axes[0].set_ylabel('Density')\n",
    "\n",
    "            sns.kdeplot(one_minus, fill=True, ax=axes[1])\n",
    "            axes[1].set_title(f'Distribution of 1- Kendall\\'s Tau for\\n{n_cat} categories and {n} samples')\n",
    "            axes[1].set_xlabel('Value')\n",
    "            axes[1].set_ylabel('Density')\n",
    "\n",
    "            pdf.savefig()\n",
    "\n",
    "print('done')\n",
    "\n"
   ]
  },
  {
   "cell_type": "markdown",
   "id": "afde868b",
   "metadata": {},
   "source": [
    "# Spearman's Rank Coefficient"
   ]
  },
  {
   "cell_type": "code",
   "execution_count": 68,
   "id": "76844f71",
   "metadata": {},
   "outputs": [],
   "source": [
    "evaluator = RankEval(method='spearman')"
   ]
  },
  {
   "cell_type": "code",
   "execution_count": 69,
   "id": "88a6689f",
   "metadata": {},
   "outputs": [
    {
     "name": "stdout",
     "output_type": "stream",
     "text": [
      "done\n"
     ]
    }
   ],
   "source": [
    "with PdfPages('Spearman_Coef_Distributions.pdf') as pdf:\n",
    "    for n_cat in diff_n_categories:\n",
    "        for n in diff_n_samples:\n",
    "            categories = [f'cat{i+1}' for i in range(n_cat)]\n",
    "            rand_rankings = [{cat: i+1 for i, cat in enumerate(random.sample(categories, n_cat))} for i in range(n)]\n",
    "            spearman_dist = evaluator._for_analysis(rand_rankings)\n",
    "            true, one_minus = spearman_dist\n",
    "            fig, axes = plt.subplots(1, 2, figsize=(12, 6))\n",
    "\n",
    "            sns.kdeplot(true, fill=True, ax=axes[0])\n",
    "            axes[0].set_title(f'Distribution of Spearman\\'s Coefficient for\\n{n_cat} categories and {n} samples')\n",
    "            axes[0].set_xlabel('Value')\n",
    "            axes[0].set_ylabel('Density')\n",
    "\n",
    "            sns.kdeplot(one_minus, fill=True, ax=axes[1])\n",
    "            axes[1].set_title(f'Distribution of 1- Spearman\\'s Coefficient for\\n{n_cat} categories and {n} samples')\n",
    "            axes[1].set_xlabel('Value')\n",
    "            axes[1].set_ylabel('Density')\n",
    "\n",
    "            pdf.savefig()\n",
    "\n",
    "print('done')"
   ]
  },
  {
   "cell_type": "markdown",
   "id": "4d755b2e",
   "metadata": {},
   "source": [
    "# Hamming Distance"
   ]
  },
  {
   "cell_type": "code",
   "execution_count": 70,
   "id": "5023c95f",
   "metadata": {},
   "outputs": [],
   "source": [
    "evaluator = RankEval(method='hamming')"
   ]
  },
  {
   "cell_type": "code",
   "execution_count": 71,
   "id": "1810fece",
   "metadata": {},
   "outputs": [
    {
     "name": "stdout",
     "output_type": "stream",
     "text": [
      "done\n"
     ]
    }
   ],
   "source": [
    "with PdfPages('Hamming_Dist_Distributions.pdf') as pdf:\n",
    "    for n_cat in diff_n_categories:\n",
    "        for n in diff_n_samples:\n",
    "            plt.figure(figsize=(6, 4))\n",
    "            categories = [f'cat{i+1}' for i in range(n_cat)]\n",
    "            rand_rankings = [{cat: i+1 for i, cat in enumerate(random.sample(categories, n_cat))} for i in range(n)]\n",
    "            hamming_dist = evaluator._for_analysis(rand_rankings)\n",
    "            true, _ = hamming_dist\n",
    "            # fig, axes = plt.subplots(1, 2, figsize=(12, 6))\n",
    "\n",
    "            sns.kdeplot(true, fill=True)\n",
    "            plt.title(f'Distribution of Normalized Hamming Distance for\\n{n_cat} categories and {n} samples')\n",
    "            plt.xlabel('Value')\n",
    "            plt.ylabel('Density')\n",
    "\n",
    "            pdf.savefig()\n",
    "\n",
    "print('done')"
   ]
  },
  {
   "cell_type": "code",
   "execution_count": null,
   "id": "70f3e6bf",
   "metadata": {},
   "outputs": [],
   "source": []
  }
 ],
 "metadata": {
  "kernelspec": {
   "display_name": "Python 3 (ipykernel)",
   "language": "python",
   "name": "python3"
  },
  "language_info": {
   "codemirror_mode": {
    "name": "ipython",
    "version": 3
   },
   "file_extension": ".py",
   "mimetype": "text/x-python",
   "name": "python",
   "nbconvert_exporter": "python",
   "pygments_lexer": "ipython3",
   "version": "3.12.1"
  }
 },
 "nbformat": 4,
 "nbformat_minor": 5
}
