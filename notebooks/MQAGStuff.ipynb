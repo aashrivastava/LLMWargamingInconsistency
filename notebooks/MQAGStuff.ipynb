{
 "cells": [
  {
   "cell_type": "code",
   "execution_count": 1,
   "id": "296bef71-422e-49b8-b934-d200f5921094",
   "metadata": {},
   "outputs": [],
   "source": [
    "%load_ext autoreload\n",
    "%autoreload 2"
   ]
  },
  {
   "cell_type": "code",
   "execution_count": 2,
   "id": "65d6f81c-8370-407d-bb65-0ac5ded2465d",
   "metadata": {},
   "outputs": [],
   "source": [
    "from utils.parse_csv import Parser\n",
    "import matplotlib.pyplot as plt\n",
    "import seaborn as sns\n",
    "from metrics.MQAGEval import MQAGEval\n",
    "import pandas as pd\n",
    "import numpy as np\n",
    "from tqdm.auto import tqdm\n",
    "import re"
   ]
  },
  {
   "cell_type": "code",
   "execution_count": 3,
   "id": "97032092-f0c1-4d3d-9e7a-ff9e55468590",
   "metadata": {},
   "outputs": [],
   "source": [
    "sns.set_style(\"darkgrid\")\n",
    "sns.set_palette('husl')"
   ]
  },
  {
   "cell_type": "code",
   "execution_count": 4,
   "id": "62d86ceb-97de-413d-82b2-50766dcddd88",
   "metadata": {},
   "outputs": [
    {
     "name": "stdout",
     "output_type": "stream",
     "text": [
      "Initializing MQAG Evaluator...\n",
      "MQAG (race) initialized to cpu\n",
      "MQAGScoreEval initialized to cpu\n"
     ]
    }
   ],
   "source": [
    "parser = Parser()\n",
    "evaluator = MQAGEval()"
   ]
  },
  {
   "cell_type": "code",
   "execution_count": 5,
   "id": "d850cab0-e36a-4637-a755-e8b32172ce9d",
   "metadata": {},
   "outputs": [],
   "source": [
    "def get_scores(dir):\n",
    "    mqag = [[], []]\n",
    "\n",
    "    for i in tqdm(range(20), desc='getting bidirs'):\n",
    "        f_path = f'{dir}/run{i+1}.csv'\n",
    "        try:\n",
    "            m1, m2 = parser.parse_free(f_path)\n",
    "            mqag[0].append(evaluator.aggregate(m1, verbose=True))\n",
    "            mqag[1].append(evaluator.aggregate(m2, verbose=True))\n",
    "        except Exception:\n",
    "            print(Exception)\n",
    "            print(f'error at: {f_path}')\n",
    "            mqag[0].append(np.nan)\n",
    "            mqag[1].append(np.nan)\n",
    "\n",
    "    return mqag"
   ]
  },
  {
   "cell_type": "code",
   "execution_count": 6,
   "id": "ee8b0f53-6cc0-412e-ae8b-35ef3ce3ec3f",
   "metadata": {},
   "outputs": [],
   "source": [
    "paths = ['/Users/aryanshrivastava/Desktop/LLMWargamingConfidence/logging/outputs/v4/gpt3.5turbo-free-False-20-1.0',\n",
    "         '/Users/aryanshrivastava/Desktop/LLMWargamingConfidence/logging/outputs/v4/gpt3.5turbo-free-True-20-1.0',\n",
    "         '/Users/aryanshrivastava/Desktop/LLMWargamingConfidence/logging/outputs/v4/gpt4-free-False-20-1.0',\n",
    "         '/Users/aryanshrivastava/Desktop/LLMWargamingConfidence/logging/outputs/v4/gpt4-free-True-20-1.0']"
   ]
  },
  {
   "cell_type": "code",
   "execution_count": null,
   "id": "fa9f28b1-dd39-4fca-afbf-4faae4dbe371",
   "metadata": {},
   "outputs": [],
   "source": [
    "dfs = []\n",
    "for path in paths:\n",
    "    data = get_scores(path)\n",
    "    df = pd.DataFrame(data).T\n",
    "    df.columns = ['Move 1', 'Move 2']\n",
    "\n",
    "    dfs.append(df)\n",
    "\n",
    "for i, path in enumerate(paths):\n",
    "    path = re.sub('outputs', 'consistency', path) + '/bidirconsistency.csv'\n",
    "    dfs[i].to_csv(path)"
   ]
  }
 ],
 "metadata": {
  "kernelspec": {
   "display_name": "Python 3 (ipykernel)",
   "language": "python",
   "name": "python3"
  },
  "language_info": {
   "codemirror_mode": {
    "name": "ipython",
    "version": 3
   },
   "file_extension": ".py",
   "mimetype": "text/x-python",
   "name": "python",
   "nbconvert_exporter": "python",
   "pygments_lexer": "ipython3",
   "version": "3.12.1"
  }
 },
 "nbformat": 4,
 "nbformat_minor": 5
}
