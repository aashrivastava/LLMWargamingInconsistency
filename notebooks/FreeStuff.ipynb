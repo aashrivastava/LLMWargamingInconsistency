{
 "cells": [
  {
   "cell_type": "code",
   "execution_count": 3,
   "id": "7b5784ae-70f9-4072-abb6-cbe255ab2fec",
   "metadata": {},
   "outputs": [
    {
     "name": "stdout",
     "output_type": "stream",
     "text": [
      "The autoreload extension is already loaded. To reload it, use:\n",
      "  %reload_ext autoreload\n"
     ]
    }
   ],
   "source": [
    "%load_ext autoreload\n",
    "%autoreload 2"
   ]
  },
  {
   "cell_type": "code",
   "execution_count": 4,
   "id": "d91feb46-33f0-4338-ad6d-a74cdc586eff",
   "metadata": {},
   "outputs": [],
   "source": [
    "from utils.parse_csv import Parser\n",
    "import matplotlib.pyplot as plt\n",
    "import seaborn as sns\n",
    "from metrics.BERTScoreEval import BERTScoreEval\n",
    "from metrics.BiDirectionalEntailmentEval import BiDirectionalEntailmentEval\n",
    "from metrics.MQAGEval import MQAGEval\n",
    "import pandas as pd\n",
    "import numpy as np"
   ]
  },
  {
   "cell_type": "code",
   "execution_count": 5,
   "id": "b9ac51b8-dde6-4c49-88be-78fc5a4aa4c1",
   "metadata": {},
   "outputs": [
    {
     "name": "stdout",
     "output_type": "stream",
     "text": [
      "Initalizing BERTScore Evaluator...\n"
     ]
    },
    {
     "name": "stderr",
     "output_type": "stream",
     "text": [
      "Some weights of RobertaModel were not initialized from the model checkpoint at roberta-large and are newly initialized: ['roberta.pooler.dense.bias', 'roberta.pooler.dense.weight']\n",
      "You should probably TRAIN this model on a down-stream task to be able to use it for predictions and inference.\n"
     ]
    },
    {
     "name": "stdout",
     "output_type": "stream",
     "text": [
      "BERTScore Evaluator Initialized to cpu\n",
      "Initializing BiDirectional Entailment Evaluator...\n",
      "BiDirectional Entailment Evaluator initialized to cpu\n",
      "Initializing MQAG Evaluator...\n",
      "MQAG (race) initialized to cpu\n",
      "MQAGScoreEval initialized to cpu\n"
     ]
    }
   ],
   "source": [
    "parser = Parser()\n",
    "berteval = BERTScoreEval()\n",
    "bidirectioneval = BiDirectionalEntailmentEval()\n",
    "mqageval = MQAGEval()"
   ]
  },
  {
   "cell_type": "code",
   "execution_count": null,
   "id": "b5cd13a9-7315-42f9-aafe-4d59e62e981e",
   "metadata": {},
   "outputs": [],
   "source": [
    "def get_scores(dir):\n",
    "    bert = [[], []]\n",
    "    mqag = [[], []]\n",
    "    bidirection = [[], []]\n",
    "\n",
    "    for i in range(20):\n",
    "        f_path = f'{dir}/run{i+1}.csv'\n",
    "        try:\n",
    "            m1, m2 = parser.parse_free(f_path)\n",
    "            bert[0].append(berteval.aggregate(m1)"
   ]
  }
 ],
 "metadata": {
  "kernelspec": {
   "display_name": "Python 3 (ipykernel)",
   "language": "python",
   "name": "python3"
  },
  "language_info": {
   "codemirror_mode": {
    "name": "ipython",
    "version": 3
   },
   "file_extension": ".py",
   "mimetype": "text/x-python",
   "name": "python",
   "nbconvert_exporter": "python",
   "pygments_lexer": "ipython3",
   "version": "3.12.1"
  }
 },
 "nbformat": 4,
 "nbformat_minor": 5
}
