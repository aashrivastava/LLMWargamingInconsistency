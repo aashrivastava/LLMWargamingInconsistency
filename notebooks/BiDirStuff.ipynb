{
 "cells": [
  {
   "cell_type": "code",
   "execution_count": 1,
   "id": "85717b28-e3c7-48aa-82d4-9e9d77918c93",
   "metadata": {},
   "outputs": [],
   "source": [
    "%load_ext autoreload\n",
    "%autoreload 2"
   ]
  },
  {
   "cell_type": "code",
   "execution_count": 2,
   "id": "94fe89ef-c891-4025-bc89-0773f979664a",
   "metadata": {},
   "outputs": [],
   "source": [
    "from utils.parse_csv import Parser\n",
    "import matplotlib.pyplot as plt\n",
    "import seaborn as sns\n",
    "from metrics.BiDirectionalEntailmentEval import BiDirectionalEntailmentEval\n",
    "import pandas as pd\n",
    "import numpy as np\n",
    "from tqdm.auto import tqdm\n",
    "import re"
   ]
  },
  {
   "cell_type": "code",
   "execution_count": 3,
   "id": "695a2c3f-0880-4a99-842d-8e669c7f0ed0",
   "metadata": {},
   "outputs": [],
   "source": [
    "sns.set_style(\"darkgrid\")\n",
    "sns.set_palette('husl')"
   ]
  },
  {
   "cell_type": "code",
   "execution_count": 4,
   "id": "df2c14ea-3eb7-47ee-8968-bb922286f843",
   "metadata": {},
   "outputs": [
    {
     "name": "stdout",
     "output_type": "stream",
     "text": [
      "Initializing BiDirectional Entailment Evaluator...\n",
      "BiDirectional Entailment Evaluator initialized to cpu\n"
     ]
    }
   ],
   "source": [
    "parser = Parser()\n",
    "evaluator = BiDirectionalEntailmentEval()"
   ]
  },
  {
   "cell_type": "code",
   "execution_count": 8,
   "id": "b585c6c4-42b6-46d2-83b0-a68f4432e60b",
   "metadata": {},
   "outputs": [],
   "source": [
    "def get_scores(dir):\n",
    "    bidir = [[], []]\n",
    "    curr_min = (None, None, 2)\n",
    "    curr_max = (None, None, -1)\n",
    "    for i in tqdm(range(20), desc='getting bidirs'):\n",
    "        f_path = f'{dir}/run{i+1}.csv'\n",
    "        try:\n",
    "            m1, m2 = parser.parse_free(f_path)\n",
    "            m1_agg = evaluator.aggregate(m1, verbose=True)\n",
    "            m2_agg = evaluator.aggregate(m2, verbose=True)\n",
    "            bidir[0].append(m1_agg)\n",
    "            bidir[1].append(m2_agg)\n",
    "            print(f'Move 1: {m1_agg}')\n",
    "            print(f'Move 2: {m2_agg}')\n",
    "            \n",
    "\n",
    "            # baselines\n",
    "            if m1_agg > m2_agg:\n",
    "                to_check_min = m2_agg\n",
    "                to_check_max = m1_agg\n",
    "                move_min = 'Move 2'\n",
    "                move_max = 'Move 1'\n",
    "            else:\n",
    "                to_check_min = m1_agg\n",
    "                to_check_max = m2_agg\n",
    "                move_min = 'Move 1'\n",
    "                move_max = 'Move 2'\n",
    "\n",
    "            # update if current check is less than current extreme\n",
    "            if to_check_min < curr_min[2]:\n",
    "                curr_min = (f_path, move_min, to_check_min)\n",
    "            if to_check_max > curr_max[2]:\n",
    "                curr_max = (f_path, move_max, to_check_max)\n",
    "        except Exception:\n",
    "            print(Exception)\n",
    "            print(f'error at: {f_path}')\n",
    "            bidir[0].append(np.nan)\n",
    "            bidir[1].append(np.nan)\n",
    "\n",
    "    \n",
    "    with open(f'{dir}/regularbidirextremes.txt', 'w') as f:\n",
    "        f.write(f'Minimum Inconsistency: {curr_min}\\nMaximum Inconsistency: {curr_max}')\n",
    "        \n",
    "    return bidir"
   ]
  },
  {
   "cell_type": "code",
   "execution_count": 9,
   "id": "4ab945d3-7bea-45d1-b3e2-b61611e9dd0d",
   "metadata": {},
   "outputs": [],
   "source": [
    "paths = ['/Users/aryanshrivastava/Desktop/LLMWargamingConfidence/logging/outputs/v4/gpt3.5turbo-free-False-20-1.0',\n",
    "         '/Users/aryanshrivastava/Desktop/LLMWargamingConfidence/logging/outputs/v4/gpt3.5turbo-free-True-20-1.0',\n",
    "         '/Users/aryanshrivastava/Desktop/LLMWargamingConfidence/logging/outputs/v4/gpt4-free-False-20-1.0',\n",
    "         '/Users/aryanshrivastava/Desktop/LLMWargamingConfidence/logging/outputs/v4/gpt4-free-True-20-1.0']"
   ]
  },
  {
   "cell_type": "code",
   "execution_count": 10,
   "id": "31b74cf2-4089-42a4-afc0-634b9e089055",
   "metadata": {},
   "outputs": [
    {
     "data": {
      "application/vnd.jupyter.widget-view+json": {
       "model_id": "a6cb8966756f426389f2a368e159e539",
       "version_major": 2,
       "version_minor": 0
      },
      "text/plain": [
       "getting bidirs:   0%|          | 0/20 [00:00<?, ?it/s]"
      ]
     },
     "metadata": {},
     "output_type": "display_data"
    },
    {
     "data": {
      "application/vnd.jupyter.widget-view+json": {
       "model_id": "175182730bba4ea6b20963fbe99f96b7",
       "version_major": 2,
       "version_minor": 0
      },
      "text/plain": [
       "Creating Equivalence Classes...:   0%|          | 0/19 [00:00<?, ?it/s]"
      ]
     },
     "metadata": {},
     "output_type": "display_data"
    },
    {
     "data": {
      "application/vnd.jupyter.widget-view+json": {
       "model_id": "849b45dd208b4c038d184abf2c8fc51c",
       "version_major": 2,
       "version_minor": 0
      },
      "text/plain": [
       "Creating Equivalence Classes...:   0%|          | 0/19 [00:00<?, ?it/s]"
      ]
     },
     "metadata": {},
     "output_type": "display_data"
    },
    {
     "name": "stdout",
     "output_type": "stream",
     "text": [
      "Move 1: 0.9947368421052631\n",
      "Move 2: 0.9789473684210527\n"
     ]
    },
    {
     "data": {
      "application/vnd.jupyter.widget-view+json": {
       "model_id": "dfd8bf92a33e4a2f84efe3a9408b8224",
       "version_major": 2,
       "version_minor": 0
      },
      "text/plain": [
       "Creating Equivalence Classes...:   0%|          | 0/19 [00:00<?, ?it/s]"
      ]
     },
     "metadata": {},
     "output_type": "display_data"
    },
    {
     "data": {
      "application/vnd.jupyter.widget-view+json": {
       "model_id": "30d17da60273405d8c76e3bc5ad13716",
       "version_major": 2,
       "version_minor": 0
      },
      "text/plain": [
       "Creating Equivalence Classes...:   0%|          | 0/19 [00:00<?, ?it/s]"
      ]
     },
     "metadata": {},
     "output_type": "display_data"
    },
    {
     "name": "stdout",
     "output_type": "stream",
     "text": [
      "Move 1: 0.9947368421052631\n",
      "Move 2: 0.9894736842105263\n"
     ]
    },
    {
     "data": {
      "application/vnd.jupyter.widget-view+json": {
       "model_id": "d0a87fdf7ad949ecbfd03cc20908d51d",
       "version_major": 2,
       "version_minor": 0
      },
      "text/plain": [
       "Creating Equivalence Classes...:   0%|          | 0/19 [00:00<?, ?it/s]"
      ]
     },
     "metadata": {},
     "output_type": "display_data"
    },
    {
     "data": {
      "application/vnd.jupyter.widget-view+json": {
       "model_id": "48cec43801db4fc4987eeef693219745",
       "version_major": 2,
       "version_minor": 0
      },
      "text/plain": [
       "Creating Equivalence Classes...:   0%|          | 0/19 [00:00<?, ?it/s]"
      ]
     },
     "metadata": {},
     "output_type": "display_data"
    },
    {
     "name": "stdout",
     "output_type": "stream",
     "text": [
      "Move 1: 0.9894736842105263\n",
      "Move 2: 0.9947368421052631\n"
     ]
    },
    {
     "data": {
      "application/vnd.jupyter.widget-view+json": {
       "model_id": "f653525ab1b84e659cbb55ca0e6b7c2f",
       "version_major": 2,
       "version_minor": 0
      },
      "text/plain": [
       "Creating Equivalence Classes...:   0%|          | 0/19 [00:00<?, ?it/s]"
      ]
     },
     "metadata": {},
     "output_type": "display_data"
    },
    {
     "data": {
      "application/vnd.jupyter.widget-view+json": {
       "model_id": "e7c8d4bee5bf4d94bdea879d83324a34",
       "version_major": 2,
       "version_minor": 0
      },
      "text/plain": [
       "Creating Equivalence Classes...:   0%|          | 0/19 [00:00<?, ?it/s]"
      ]
     },
     "metadata": {},
     "output_type": "display_data"
    },
    {
     "name": "stdout",
     "output_type": "stream",
     "text": [
      "Move 1: 0.9789473684210527\n",
      "Move 2: 0.9947368421052631\n"
     ]
    },
    {
     "data": {
      "application/vnd.jupyter.widget-view+json": {
       "model_id": "9c140172a3204a5a8dac39ecf843fdad",
       "version_major": 2,
       "version_minor": 0
      },
      "text/plain": [
       "Creating Equivalence Classes...:   0%|          | 0/19 [00:00<?, ?it/s]"
      ]
     },
     "metadata": {},
     "output_type": "display_data"
    },
    {
     "data": {
      "application/vnd.jupyter.widget-view+json": {
       "model_id": "f4dc0eedcc11410d9d86658ac3f9d6af",
       "version_major": 2,
       "version_minor": 0
      },
      "text/plain": [
       "Creating Equivalence Classes...:   0%|          | 0/19 [00:00<?, ?it/s]"
      ]
     },
     "metadata": {},
     "output_type": "display_data"
    },
    {
     "name": "stdout",
     "output_type": "stream",
     "text": [
      "Move 1: 1.0\n",
      "Move 2: 0.9947368421052631\n"
     ]
    },
    {
     "data": {
      "application/vnd.jupyter.widget-view+json": {
       "model_id": "a24928c6e56f4b1e8f12a9d6dd07b674",
       "version_major": 2,
       "version_minor": 0
      },
      "text/plain": [
       "Creating Equivalence Classes...:   0%|          | 0/19 [00:00<?, ?it/s]"
      ]
     },
     "metadata": {},
     "output_type": "display_data"
    },
    {
     "data": {
      "application/vnd.jupyter.widget-view+json": {
       "model_id": "bf33394e856744778abebe8a899f0d86",
       "version_major": 2,
       "version_minor": 0
      },
      "text/plain": [
       "Creating Equivalence Classes...:   0%|          | 0/19 [00:00<?, ?it/s]"
      ]
     },
     "metadata": {},
     "output_type": "display_data"
    },
    {
     "name": "stdout",
     "output_type": "stream",
     "text": [
      "Move 1: 0.9947368421052631\n",
      "Move 2: 0.9789473684210527\n"
     ]
    },
    {
     "data": {
      "application/vnd.jupyter.widget-view+json": {
       "model_id": "e01d887a560a4909bbfdf19150d47bb7",
       "version_major": 2,
       "version_minor": 0
      },
      "text/plain": [
       "Creating Equivalence Classes...:   0%|          | 0/19 [00:00<?, ?it/s]"
      ]
     },
     "metadata": {},
     "output_type": "display_data"
    },
    {
     "data": {
      "application/vnd.jupyter.widget-view+json": {
       "model_id": "a1f8420890fc4f8b8c83bfbf98cd4069",
       "version_major": 2,
       "version_minor": 0
      },
      "text/plain": [
       "Creating Equivalence Classes...:   0%|          | 0/19 [00:00<?, ?it/s]"
      ]
     },
     "metadata": {},
     "output_type": "display_data"
    },
    {
     "name": "stdout",
     "output_type": "stream",
     "text": [
      "Move 1: 0.9947368421052631\n",
      "Move 2: 0.9736842105263158\n"
     ]
    },
    {
     "data": {
      "application/vnd.jupyter.widget-view+json": {
       "model_id": "4ac1eb9b68ba445182f7d17b9238bc8a",
       "version_major": 2,
       "version_minor": 0
      },
      "text/plain": [
       "Creating Equivalence Classes...:   0%|          | 0/19 [00:00<?, ?it/s]"
      ]
     },
     "metadata": {},
     "output_type": "display_data"
    },
    {
     "data": {
      "application/vnd.jupyter.widget-view+json": {
       "model_id": "abe9092bc07145288204161139134103",
       "version_major": 2,
       "version_minor": 0
      },
      "text/plain": [
       "Creating Equivalence Classes...:   0%|          | 0/19 [00:00<?, ?it/s]"
      ]
     },
     "metadata": {},
     "output_type": "display_data"
    },
    {
     "name": "stdout",
     "output_type": "stream",
     "text": [
      "Move 1: 0.9947368421052631\n",
      "Move 2: 0.9947368421052631\n"
     ]
    },
    {
     "data": {
      "application/vnd.jupyter.widget-view+json": {
       "model_id": "4eba1446b2424b2aa4280f083405ad99",
       "version_major": 2,
       "version_minor": 0
      },
      "text/plain": [
       "Creating Equivalence Classes...:   0%|          | 0/19 [00:00<?, ?it/s]"
      ]
     },
     "metadata": {},
     "output_type": "display_data"
    },
    {
     "data": {
      "application/vnd.jupyter.widget-view+json": {
       "model_id": "241bc2e4cd6348788701d9039b7aed6a",
       "version_major": 2,
       "version_minor": 0
      },
      "text/plain": [
       "Creating Equivalence Classes...:   0%|          | 0/19 [00:00<?, ?it/s]"
      ]
     },
     "metadata": {},
     "output_type": "display_data"
    },
    {
     "name": "stdout",
     "output_type": "stream",
     "text": [
      "Move 1: 1.0\n",
      "Move 2: 1.0\n"
     ]
    },
    {
     "data": {
      "application/vnd.jupyter.widget-view+json": {
       "model_id": "c974d09f6c504c7bb1a3dddb9f8a9d3a",
       "version_major": 2,
       "version_minor": 0
      },
      "text/plain": [
       "Creating Equivalence Classes...:   0%|          | 0/19 [00:00<?, ?it/s]"
      ]
     },
     "metadata": {},
     "output_type": "display_data"
    },
    {
     "data": {
      "application/vnd.jupyter.widget-view+json": {
       "model_id": "46a756e367134ed8bfe92f45fc29c1fd",
       "version_major": 2,
       "version_minor": 0
      },
      "text/plain": [
       "Creating Equivalence Classes...:   0%|          | 0/19 [00:00<?, ?it/s]"
      ]
     },
     "metadata": {},
     "output_type": "display_data"
    },
    {
     "name": "stdout",
     "output_type": "stream",
     "text": [
      "Move 1: 0.9894736842105263\n",
      "Move 2: 0.9947368421052631\n"
     ]
    },
    {
     "data": {
      "application/vnd.jupyter.widget-view+json": {
       "model_id": "0551212d6d03437b9bd760f36c9caee4",
       "version_major": 2,
       "version_minor": 0
      },
      "text/plain": [
       "Creating Equivalence Classes...:   0%|          | 0/19 [00:00<?, ?it/s]"
      ]
     },
     "metadata": {},
     "output_type": "display_data"
    },
    {
     "data": {
      "application/vnd.jupyter.widget-view+json": {
       "model_id": "da72b4c0b8014d28a5797bc99b45879e",
       "version_major": 2,
       "version_minor": 0
      },
      "text/plain": [
       "Creating Equivalence Classes...:   0%|          | 0/19 [00:00<?, ?it/s]"
      ]
     },
     "metadata": {},
     "output_type": "display_data"
    },
    {
     "name": "stdout",
     "output_type": "stream",
     "text": [
      "Move 1: 0.9421052631578948\n",
      "Move 2: 0.9894736842105263\n"
     ]
    },
    {
     "data": {
      "application/vnd.jupyter.widget-view+json": {
       "model_id": "9179b4bd4eb349709440a3409a71cf21",
       "version_major": 2,
       "version_minor": 0
      },
      "text/plain": [
       "Creating Equivalence Classes...:   0%|          | 0/19 [00:00<?, ?it/s]"
      ]
     },
     "metadata": {},
     "output_type": "display_data"
    },
    {
     "data": {
      "application/vnd.jupyter.widget-view+json": {
       "model_id": "873fb134536948dd90149eafd29391b7",
       "version_major": 2,
       "version_minor": 0
      },
      "text/plain": [
       "Creating Equivalence Classes...:   0%|          | 0/19 [00:00<?, ?it/s]"
      ]
     },
     "metadata": {},
     "output_type": "display_data"
    },
    {
     "name": "stdout",
     "output_type": "stream",
     "text": [
      "Move 1: 0.9947368421052631\n",
      "Move 2: 1.0\n"
     ]
    },
    {
     "data": {
      "application/vnd.jupyter.widget-view+json": {
       "model_id": "5cc49a0a73c3431b8442a32118dab7a0",
       "version_major": 2,
       "version_minor": 0
      },
      "text/plain": [
       "Creating Equivalence Classes...:   0%|          | 0/19 [00:00<?, ?it/s]"
      ]
     },
     "metadata": {},
     "output_type": "display_data"
    },
    {
     "data": {
      "application/vnd.jupyter.widget-view+json": {
       "model_id": "750fca1aa97f4669bbe8746c9051449a",
       "version_major": 2,
       "version_minor": 0
      },
      "text/plain": [
       "Creating Equivalence Classes...:   0%|          | 0/19 [00:00<?, ?it/s]"
      ]
     },
     "metadata": {},
     "output_type": "display_data"
    },
    {
     "name": "stdout",
     "output_type": "stream",
     "text": [
      "Move 1: 0.9842105263157894\n",
      "Move 2: 0.9947368421052631\n"
     ]
    },
    {
     "data": {
      "application/vnd.jupyter.widget-view+json": {
       "model_id": "bab93628c9824b1cb7392ea525692341",
       "version_major": 2,
       "version_minor": 0
      },
      "text/plain": [
       "Creating Equivalence Classes...:   0%|          | 0/19 [00:00<?, ?it/s]"
      ]
     },
     "metadata": {},
     "output_type": "display_data"
    },
    {
     "data": {
      "application/vnd.jupyter.widget-view+json": {
       "model_id": "ba1339a2bdee4e03afd3f73c60a1bb43",
       "version_major": 2,
       "version_minor": 0
      },
      "text/plain": [
       "Creating Equivalence Classes...:   0%|          | 0/19 [00:00<?, ?it/s]"
      ]
     },
     "metadata": {},
     "output_type": "display_data"
    },
    {
     "name": "stdout",
     "output_type": "stream",
     "text": [
      "Move 1: 0.9947368421052631\n",
      "Move 2: 0.9894736842105263\n"
     ]
    },
    {
     "data": {
      "application/vnd.jupyter.widget-view+json": {
       "model_id": "4b072982b64748b78ea6f4a529c100c8",
       "version_major": 2,
       "version_minor": 0
      },
      "text/plain": [
       "Creating Equivalence Classes...:   0%|          | 0/19 [00:00<?, ?it/s]"
      ]
     },
     "metadata": {},
     "output_type": "display_data"
    },
    {
     "data": {
      "application/vnd.jupyter.widget-view+json": {
       "model_id": "bb97a70d550b4271a1a920d210ac2e09",
       "version_major": 2,
       "version_minor": 0
      },
      "text/plain": [
       "Creating Equivalence Classes...:   0%|          | 0/19 [00:00<?, ?it/s]"
      ]
     },
     "metadata": {},
     "output_type": "display_data"
    },
    {
     "name": "stdout",
     "output_type": "stream",
     "text": [
      "Move 1: 1.0\n",
      "Move 2: 0.9947368421052631\n"
     ]
    },
    {
     "data": {
      "application/vnd.jupyter.widget-view+json": {
       "model_id": "3d5d262d990346f78088277845637cf3",
       "version_major": 2,
       "version_minor": 0
      },
      "text/plain": [
       "Creating Equivalence Classes...:   0%|          | 0/19 [00:00<?, ?it/s]"
      ]
     },
     "metadata": {},
     "output_type": "display_data"
    },
    {
     "data": {
      "application/vnd.jupyter.widget-view+json": {
       "model_id": "bc71f41d00a540e3b8f625ef0c06501b",
       "version_major": 2,
       "version_minor": 0
      },
      "text/plain": [
       "Creating Equivalence Classes...:   0%|          | 0/19 [00:00<?, ?it/s]"
      ]
     },
     "metadata": {},
     "output_type": "display_data"
    },
    {
     "name": "stdout",
     "output_type": "stream",
     "text": [
      "Move 1: 0.9947368421052631\n",
      "Move 2: 1.0\n"
     ]
    },
    {
     "data": {
      "application/vnd.jupyter.widget-view+json": {
       "model_id": "86481dd70e2243259f01c485745dd2e6",
       "version_major": 2,
       "version_minor": 0
      },
      "text/plain": [
       "Creating Equivalence Classes...:   0%|          | 0/19 [00:00<?, ?it/s]"
      ]
     },
     "metadata": {},
     "output_type": "display_data"
    },
    {
     "data": {
      "application/vnd.jupyter.widget-view+json": {
       "model_id": "68b0b4b6f1564830bfeea752da4eb9c2",
       "version_major": 2,
       "version_minor": 0
      },
      "text/plain": [
       "Creating Equivalence Classes...:   0%|          | 0/19 [00:00<?, ?it/s]"
      ]
     },
     "metadata": {},
     "output_type": "display_data"
    },
    {
     "name": "stdout",
     "output_type": "stream",
     "text": [
      "Move 1: 0.9842105263157894\n",
      "Move 2: 0.9842105263157894\n"
     ]
    },
    {
     "data": {
      "application/vnd.jupyter.widget-view+json": {
       "model_id": "5429d67e90c14e1c9a5a7ad50da20213",
       "version_major": 2,
       "version_minor": 0
      },
      "text/plain": [
       "Creating Equivalence Classes...:   0%|          | 0/19 [00:00<?, ?it/s]"
      ]
     },
     "metadata": {},
     "output_type": "display_data"
    },
    {
     "data": {
      "application/vnd.jupyter.widget-view+json": {
       "model_id": "9bac1f1317474c748eb155edaf9691a1",
       "version_major": 2,
       "version_minor": 0
      },
      "text/plain": [
       "Creating Equivalence Classes...:   0%|          | 0/19 [00:00<?, ?it/s]"
      ]
     },
     "metadata": {},
     "output_type": "display_data"
    },
    {
     "name": "stdout",
     "output_type": "stream",
     "text": [
      "Move 1: 0.9842105263157894\n",
      "Move 2: 0.9947368421052631\n"
     ]
    },
    {
     "data": {
      "application/vnd.jupyter.widget-view+json": {
       "model_id": "39947997358e46ccaeccd0c583f557b1",
       "version_major": 2,
       "version_minor": 0
      },
      "text/plain": [
       "Creating Equivalence Classes...:   0%|          | 0/19 [00:00<?, ?it/s]"
      ]
     },
     "metadata": {},
     "output_type": "display_data"
    },
    {
     "data": {
      "application/vnd.jupyter.widget-view+json": {
       "model_id": "62d967897a644c6b854fb8e4a9ec5548",
       "version_major": 2,
       "version_minor": 0
      },
      "text/plain": [
       "Creating Equivalence Classes...:   0%|          | 0/19 [00:00<?, ?it/s]"
      ]
     },
     "metadata": {},
     "output_type": "display_data"
    },
    {
     "name": "stdout",
     "output_type": "stream",
     "text": [
      "Move 1: 0.9947368421052631\n",
      "Move 2: 0.9947368421052631\n"
     ]
    },
    {
     "data": {
      "application/vnd.jupyter.widget-view+json": {
       "model_id": "80fa90faa7b841158a8d354330cfdcb3",
       "version_major": 2,
       "version_minor": 0
      },
      "text/plain": [
       "Creating Equivalence Classes...:   0%|          | 0/19 [00:00<?, ?it/s]"
      ]
     },
     "metadata": {},
     "output_type": "display_data"
    },
    {
     "data": {
      "application/vnd.jupyter.widget-view+json": {
       "model_id": "98e471fadeed4c35998b3a83028ff65d",
       "version_major": 2,
       "version_minor": 0
      },
      "text/plain": [
       "Creating Equivalence Classes...:   0%|          | 0/19 [00:00<?, ?it/s]"
      ]
     },
     "metadata": {},
     "output_type": "display_data"
    },
    {
     "name": "stdout",
     "output_type": "stream",
     "text": [
      "Move 1: 0.9736842105263158\n",
      "Move 2: 1.0\n"
     ]
    },
    {
     "data": {
      "application/vnd.jupyter.widget-view+json": {
       "model_id": "56f4132479854788ad1cd762cf8695b0",
       "version_major": 2,
       "version_minor": 0
      },
      "text/plain": [
       "getting bidirs:   0%|          | 0/20 [00:00<?, ?it/s]"
      ]
     },
     "metadata": {},
     "output_type": "display_data"
    },
    {
     "data": {
      "application/vnd.jupyter.widget-view+json": {
       "model_id": "e18054483313411b94825c9b1ea283d0",
       "version_major": 2,
       "version_minor": 0
      },
      "text/plain": [
       "Creating Equivalence Classes...:   0%|          | 0/19 [00:00<?, ?it/s]"
      ]
     },
     "metadata": {},
     "output_type": "display_data"
    },
    {
     "data": {
      "application/vnd.jupyter.widget-view+json": {
       "model_id": "d272298f1048471d974cdb22ad398c6d",
       "version_major": 2,
       "version_minor": 0
      },
      "text/plain": [
       "Creating Equivalence Classes...:   0%|          | 0/19 [00:00<?, ?it/s]"
      ]
     },
     "metadata": {},
     "output_type": "display_data"
    },
    {
     "name": "stdout",
     "output_type": "stream",
     "text": [
      "Move 1: 0.9947368421052631\n",
      "Move 2: 0.9894736842105263\n"
     ]
    },
    {
     "data": {
      "application/vnd.jupyter.widget-view+json": {
       "model_id": "08c1f70fdb764fb3979433e62caeeba2",
       "version_major": 2,
       "version_minor": 0
      },
      "text/plain": [
       "Creating Equivalence Classes...:   0%|          | 0/19 [00:00<?, ?it/s]"
      ]
     },
     "metadata": {},
     "output_type": "display_data"
    },
    {
     "data": {
      "application/vnd.jupyter.widget-view+json": {
       "model_id": "b24e910e3e4e44f7a82c1b05509bc0af",
       "version_major": 2,
       "version_minor": 0
      },
      "text/plain": [
       "Creating Equivalence Classes...:   0%|          | 0/19 [00:00<?, ?it/s]"
      ]
     },
     "metadata": {},
     "output_type": "display_data"
    },
    {
     "name": "stdout",
     "output_type": "stream",
     "text": [
      "Move 1: 1.0\n",
      "Move 2: 0.9842105263157894\n"
     ]
    },
    {
     "data": {
      "application/vnd.jupyter.widget-view+json": {
       "model_id": "6c3bf214a00845afac3845208da8efab",
       "version_major": 2,
       "version_minor": 0
      },
      "text/plain": [
       "Creating Equivalence Classes...:   0%|          | 0/19 [00:00<?, ?it/s]"
      ]
     },
     "metadata": {},
     "output_type": "display_data"
    },
    {
     "data": {
      "application/vnd.jupyter.widget-view+json": {
       "model_id": "f5a8e4cf9c97465ab31a12f4762cf42b",
       "version_major": 2,
       "version_minor": 0
      },
      "text/plain": [
       "Creating Equivalence Classes...:   0%|          | 0/19 [00:00<?, ?it/s]"
      ]
     },
     "metadata": {},
     "output_type": "display_data"
    },
    {
     "name": "stdout",
     "output_type": "stream",
     "text": [
      "Move 1: 0.9315789473684211\n",
      "Move 2: 1.0\n"
     ]
    },
    {
     "data": {
      "application/vnd.jupyter.widget-view+json": {
       "model_id": "f8d002062cf04bf3878410a2d2a75c0b",
       "version_major": 2,
       "version_minor": 0
      },
      "text/plain": [
       "Creating Equivalence Classes...:   0%|          | 0/19 [00:00<?, ?it/s]"
      ]
     },
     "metadata": {},
     "output_type": "display_data"
    },
    {
     "data": {
      "application/vnd.jupyter.widget-view+json": {
       "model_id": "5a984c0d7f33402e8e796549f38d0400",
       "version_major": 2,
       "version_minor": 0
      },
      "text/plain": [
       "Creating Equivalence Classes...:   0%|          | 0/19 [00:00<?, ?it/s]"
      ]
     },
     "metadata": {},
     "output_type": "display_data"
    },
    {
     "name": "stdout",
     "output_type": "stream",
     "text": [
      "Move 1: 0.9736842105263158\n",
      "Move 2: 0.9789473684210527\n"
     ]
    },
    {
     "data": {
      "application/vnd.jupyter.widget-view+json": {
       "model_id": "d4fb9e979c78487b98cca67f4279677b",
       "version_major": 2,
       "version_minor": 0
      },
      "text/plain": [
       "Creating Equivalence Classes...:   0%|          | 0/19 [00:00<?, ?it/s]"
      ]
     },
     "metadata": {},
     "output_type": "display_data"
    },
    {
     "data": {
      "application/vnd.jupyter.widget-view+json": {
       "model_id": "8c8a0bb28deb425f8ce101945bf47a02",
       "version_major": 2,
       "version_minor": 0
      },
      "text/plain": [
       "Creating Equivalence Classes...:   0%|          | 0/19 [00:00<?, ?it/s]"
      ]
     },
     "metadata": {},
     "output_type": "display_data"
    },
    {
     "name": "stdout",
     "output_type": "stream",
     "text": [
      "Move 1: 0.9789473684210527\n",
      "Move 2: 0.9894736842105263\n"
     ]
    },
    {
     "data": {
      "application/vnd.jupyter.widget-view+json": {
       "model_id": "c7f0ddc91e20425180327dfcbb354bc1",
       "version_major": 2,
       "version_minor": 0
      },
      "text/plain": [
       "Creating Equivalence Classes...:   0%|          | 0/19 [00:00<?, ?it/s]"
      ]
     },
     "metadata": {},
     "output_type": "display_data"
    },
    {
     "data": {
      "application/vnd.jupyter.widget-view+json": {
       "model_id": "7a4e3cb58fdc44fea0ae8386d543548e",
       "version_major": 2,
       "version_minor": 0
      },
      "text/plain": [
       "Creating Equivalence Classes...:   0%|          | 0/19 [00:00<?, ?it/s]"
      ]
     },
     "metadata": {},
     "output_type": "display_data"
    },
    {
     "name": "stdout",
     "output_type": "stream",
     "text": [
      "Move 1: 0.9894736842105263\n",
      "Move 2: 0.9157894736842105\n"
     ]
    },
    {
     "data": {
      "application/vnd.jupyter.widget-view+json": {
       "model_id": "a37ef239dd1a4733ab9b55c2a717095c",
       "version_major": 2,
       "version_minor": 0
      },
      "text/plain": [
       "Creating Equivalence Classes...:   0%|          | 0/19 [00:00<?, ?it/s]"
      ]
     },
     "metadata": {},
     "output_type": "display_data"
    },
    {
     "data": {
      "application/vnd.jupyter.widget-view+json": {
       "model_id": "14a04f47f42e4dd3acf2cab386c3385c",
       "version_major": 2,
       "version_minor": 0
      },
      "text/plain": [
       "Creating Equivalence Classes...:   0%|          | 0/19 [00:00<?, ?it/s]"
      ]
     },
     "metadata": {},
     "output_type": "display_data"
    },
    {
     "name": "stdout",
     "output_type": "stream",
     "text": [
      "Move 1: 0.9789473684210527\n",
      "Move 2: 0.9736842105263158\n"
     ]
    },
    {
     "data": {
      "application/vnd.jupyter.widget-view+json": {
       "model_id": "d790827aa5fc40b48692a814201dc54c",
       "version_major": 2,
       "version_minor": 0
      },
      "text/plain": [
       "Creating Equivalence Classes...:   0%|          | 0/19 [00:00<?, ?it/s]"
      ]
     },
     "metadata": {},
     "output_type": "display_data"
    },
    {
     "data": {
      "application/vnd.jupyter.widget-view+json": {
       "model_id": "00041f4ad3c94b999cdb183c905151b8",
       "version_major": 2,
       "version_minor": 0
      },
      "text/plain": [
       "Creating Equivalence Classes...:   0%|          | 0/19 [00:00<?, ?it/s]"
      ]
     },
     "metadata": {},
     "output_type": "display_data"
    },
    {
     "name": "stdout",
     "output_type": "stream",
     "text": [
      "Move 1: 0.9894736842105263\n",
      "Move 2: 0.9368421052631579\n"
     ]
    },
    {
     "data": {
      "application/vnd.jupyter.widget-view+json": {
       "model_id": "587263f4393247fdae7d7bd6b6fe5e6c",
       "version_major": 2,
       "version_minor": 0
      },
      "text/plain": [
       "Creating Equivalence Classes...:   0%|          | 0/19 [00:00<?, ?it/s]"
      ]
     },
     "metadata": {},
     "output_type": "display_data"
    },
    {
     "data": {
      "application/vnd.jupyter.widget-view+json": {
       "model_id": "53c9345f41244afbbbf59f2a4dd1401e",
       "version_major": 2,
       "version_minor": 0
      },
      "text/plain": [
       "Creating Equivalence Classes...:   0%|          | 0/19 [00:00<?, ?it/s]"
      ]
     },
     "metadata": {},
     "output_type": "display_data"
    },
    {
     "name": "stdout",
     "output_type": "stream",
     "text": [
      "Move 1: 0.9789473684210527\n",
      "Move 2: 0.9473684210526315\n"
     ]
    },
    {
     "data": {
      "application/vnd.jupyter.widget-view+json": {
       "model_id": "8070a187477449b6afe3a8885d01109f",
       "version_major": 2,
       "version_minor": 0
      },
      "text/plain": [
       "Creating Equivalence Classes...:   0%|          | 0/19 [00:00<?, ?it/s]"
      ]
     },
     "metadata": {},
     "output_type": "display_data"
    },
    {
     "data": {
      "application/vnd.jupyter.widget-view+json": {
       "model_id": "60f3d9c5ee904d439bb4958c8456234b",
       "version_major": 2,
       "version_minor": 0
      },
      "text/plain": [
       "Creating Equivalence Classes...:   0%|          | 0/19 [00:00<?, ?it/s]"
      ]
     },
     "metadata": {},
     "output_type": "display_data"
    },
    {
     "name": "stdout",
     "output_type": "stream",
     "text": [
      "Move 1: 0.9631578947368421\n",
      "Move 2: 0.9631578947368421\n"
     ]
    },
    {
     "data": {
      "application/vnd.jupyter.widget-view+json": {
       "model_id": "7be62849477944eea95a874c953fb3c0",
       "version_major": 2,
       "version_minor": 0
      },
      "text/plain": [
       "Creating Equivalence Classes...:   0%|          | 0/19 [00:00<?, ?it/s]"
      ]
     },
     "metadata": {},
     "output_type": "display_data"
    },
    {
     "data": {
      "application/vnd.jupyter.widget-view+json": {
       "model_id": "1addb8f6c4aa4ecda6dacaae01cf85c8",
       "version_major": 2,
       "version_minor": 0
      },
      "text/plain": [
       "Creating Equivalence Classes...:   0%|          | 0/19 [00:00<?, ?it/s]"
      ]
     },
     "metadata": {},
     "output_type": "display_data"
    },
    {
     "name": "stdout",
     "output_type": "stream",
     "text": [
      "Move 1: 0.9789473684210527\n",
      "Move 2: 0.9894736842105263\n"
     ]
    },
    {
     "data": {
      "application/vnd.jupyter.widget-view+json": {
       "model_id": "1d3a19a7b2924c39bf2da058ff026bba",
       "version_major": 2,
       "version_minor": 0
      },
      "text/plain": [
       "Creating Equivalence Classes...:   0%|          | 0/19 [00:00<?, ?it/s]"
      ]
     },
     "metadata": {},
     "output_type": "display_data"
    },
    {
     "data": {
      "application/vnd.jupyter.widget-view+json": {
       "model_id": "ef649d9ca03040dc92569ba6ca31c6f6",
       "version_major": 2,
       "version_minor": 0
      },
      "text/plain": [
       "Creating Equivalence Classes...:   0%|          | 0/19 [00:00<?, ?it/s]"
      ]
     },
     "metadata": {},
     "output_type": "display_data"
    },
    {
     "name": "stdout",
     "output_type": "stream",
     "text": [
      "Move 1: 0.9789473684210527\n",
      "Move 2: 0.9631578947368421\n"
     ]
    },
    {
     "data": {
      "application/vnd.jupyter.widget-view+json": {
       "model_id": "2a9a2c4d967940c1bf851bd853b9ea1b",
       "version_major": 2,
       "version_minor": 0
      },
      "text/plain": [
       "Creating Equivalence Classes...:   0%|          | 0/19 [00:00<?, ?it/s]"
      ]
     },
     "metadata": {},
     "output_type": "display_data"
    },
    {
     "data": {
      "application/vnd.jupyter.widget-view+json": {
       "model_id": "059ed7953f6a437c93a6f1c7f9ba136d",
       "version_major": 2,
       "version_minor": 0
      },
      "text/plain": [
       "Creating Equivalence Classes...:   0%|          | 0/19 [00:00<?, ?it/s]"
      ]
     },
     "metadata": {},
     "output_type": "display_data"
    },
    {
     "name": "stdout",
     "output_type": "stream",
     "text": [
      "Move 1: 0.9789473684210527\n",
      "Move 2: 0.9894736842105263\n"
     ]
    },
    {
     "data": {
      "application/vnd.jupyter.widget-view+json": {
       "model_id": "6e2d005e406f4f41adb5544b18903ec2",
       "version_major": 2,
       "version_minor": 0
      },
      "text/plain": [
       "Creating Equivalence Classes...:   0%|          | 0/19 [00:00<?, ?it/s]"
      ]
     },
     "metadata": {},
     "output_type": "display_data"
    },
    {
     "data": {
      "application/vnd.jupyter.widget-view+json": {
       "model_id": "e35ee3f013ff4ae5a508f26240387827",
       "version_major": 2,
       "version_minor": 0
      },
      "text/plain": [
       "Creating Equivalence Classes...:   0%|          | 0/19 [00:00<?, ?it/s]"
      ]
     },
     "metadata": {},
     "output_type": "display_data"
    },
    {
     "name": "stdout",
     "output_type": "stream",
     "text": [
      "Move 1: 0.9894736842105263\n",
      "Move 2: 0.9736842105263158\n"
     ]
    },
    {
     "data": {
      "application/vnd.jupyter.widget-view+json": {
       "model_id": "a7f3d0e2b1714deeb056c8b775b3483c",
       "version_major": 2,
       "version_minor": 0
      },
      "text/plain": [
       "Creating Equivalence Classes...:   0%|          | 0/19 [00:00<?, ?it/s]"
      ]
     },
     "metadata": {},
     "output_type": "display_data"
    },
    {
     "data": {
      "application/vnd.jupyter.widget-view+json": {
       "model_id": "e84dbc074c3c4026b87ae6e3276caa6c",
       "version_major": 2,
       "version_minor": 0
      },
      "text/plain": [
       "Creating Equivalence Classes...:   0%|          | 0/19 [00:00<?, ?it/s]"
      ]
     },
     "metadata": {},
     "output_type": "display_data"
    },
    {
     "name": "stdout",
     "output_type": "stream",
     "text": [
      "Move 1: 0.9736842105263158\n",
      "Move 2: 0.9736842105263158\n"
     ]
    },
    {
     "data": {
      "application/vnd.jupyter.widget-view+json": {
       "model_id": "e5271374a2594317b857aca6053b8145",
       "version_major": 2,
       "version_minor": 0
      },
      "text/plain": [
       "Creating Equivalence Classes...:   0%|          | 0/19 [00:00<?, ?it/s]"
      ]
     },
     "metadata": {},
     "output_type": "display_data"
    },
    {
     "data": {
      "application/vnd.jupyter.widget-view+json": {
       "model_id": "191b12f2fac54b5a80415ac7464dc886",
       "version_major": 2,
       "version_minor": 0
      },
      "text/plain": [
       "Creating Equivalence Classes...:   0%|          | 0/19 [00:00<?, ?it/s]"
      ]
     },
     "metadata": {},
     "output_type": "display_data"
    },
    {
     "name": "stdout",
     "output_type": "stream",
     "text": [
      "Move 1: 0.9789473684210527\n",
      "Move 2: 0.9789473684210527\n"
     ]
    },
    {
     "data": {
      "application/vnd.jupyter.widget-view+json": {
       "model_id": "8c7806b50e5b4290bb62c1c90a22327e",
       "version_major": 2,
       "version_minor": 0
      },
      "text/plain": [
       "Creating Equivalence Classes...:   0%|          | 0/19 [00:00<?, ?it/s]"
      ]
     },
     "metadata": {},
     "output_type": "display_data"
    },
    {
     "data": {
      "application/vnd.jupyter.widget-view+json": {
       "model_id": "34ad724efb5f4f9cac3dbeb2024bdc39",
       "version_major": 2,
       "version_minor": 0
      },
      "text/plain": [
       "Creating Equivalence Classes...:   0%|          | 0/19 [00:00<?, ?it/s]"
      ]
     },
     "metadata": {},
     "output_type": "display_data"
    },
    {
     "name": "stdout",
     "output_type": "stream",
     "text": [
      "Move 1: 0.9842105263157894\n",
      "Move 2: 0.9789473684210527\n"
     ]
    },
    {
     "data": {
      "application/vnd.jupyter.widget-view+json": {
       "model_id": "24ef82401f3b4b308985a3b57d7977e5",
       "version_major": 2,
       "version_minor": 0
      },
      "text/plain": [
       "Creating Equivalence Classes...:   0%|          | 0/19 [00:00<?, ?it/s]"
      ]
     },
     "metadata": {},
     "output_type": "display_data"
    },
    {
     "data": {
      "application/vnd.jupyter.widget-view+json": {
       "model_id": "42fbb89b755d4fc4af8649ce1c8ad585",
       "version_major": 2,
       "version_minor": 0
      },
      "text/plain": [
       "Creating Equivalence Classes...:   0%|          | 0/19 [00:00<?, ?it/s]"
      ]
     },
     "metadata": {},
     "output_type": "display_data"
    },
    {
     "name": "stdout",
     "output_type": "stream",
     "text": [
      "Move 1: 0.9947368421052631\n",
      "Move 2: 0.968421052631579\n"
     ]
    },
    {
     "data": {
      "application/vnd.jupyter.widget-view+json": {
       "model_id": "1f7d07dbb7b746478031d2176d0f1256",
       "version_major": 2,
       "version_minor": 0
      },
      "text/plain": [
       "Creating Equivalence Classes...:   0%|          | 0/19 [00:00<?, ?it/s]"
      ]
     },
     "metadata": {},
     "output_type": "display_data"
    },
    {
     "data": {
      "application/vnd.jupyter.widget-view+json": {
       "model_id": "b8161b5c4b5c4fafa5de7945d60e1c96",
       "version_major": 2,
       "version_minor": 0
      },
      "text/plain": [
       "Creating Equivalence Classes...:   0%|          | 0/19 [00:00<?, ?it/s]"
      ]
     },
     "metadata": {},
     "output_type": "display_data"
    },
    {
     "name": "stdout",
     "output_type": "stream",
     "text": [
      "Move 1: 0.9947368421052631\n",
      "Move 2: 0.9736842105263158\n"
     ]
    },
    {
     "data": {
      "application/vnd.jupyter.widget-view+json": {
       "model_id": "6f3e412ac3fd4247af7ecd32fa8db223",
       "version_major": 2,
       "version_minor": 0
      },
      "text/plain": [
       "Creating Equivalence Classes...:   0%|          | 0/19 [00:00<?, ?it/s]"
      ]
     },
     "metadata": {},
     "output_type": "display_data"
    },
    {
     "data": {
      "application/vnd.jupyter.widget-view+json": {
       "model_id": "a8d3c433eb354ae3a8fcb48f59cef570",
       "version_major": 2,
       "version_minor": 0
      },
      "text/plain": [
       "Creating Equivalence Classes...:   0%|          | 0/19 [00:00<?, ?it/s]"
      ]
     },
     "metadata": {},
     "output_type": "display_data"
    },
    {
     "name": "stdout",
     "output_type": "stream",
     "text": [
      "Move 1: 1.0\n",
      "Move 2: 0.9947368421052631\n"
     ]
    },
    {
     "data": {
      "application/vnd.jupyter.widget-view+json": {
       "model_id": "d8aa43fc638d4814bffcd3e31156cce5",
       "version_major": 2,
       "version_minor": 0
      },
      "text/plain": [
       "getting bidirs:   0%|          | 0/20 [00:00<?, ?it/s]"
      ]
     },
     "metadata": {},
     "output_type": "display_data"
    },
    {
     "data": {
      "application/vnd.jupyter.widget-view+json": {
       "model_id": "ab5070312b6e41158dac42c0d68d4a4a",
       "version_major": 2,
       "version_minor": 0
      },
      "text/plain": [
       "Creating Equivalence Classes...:   0%|          | 0/19 [00:00<?, ?it/s]"
      ]
     },
     "metadata": {},
     "output_type": "display_data"
    },
    {
     "data": {
      "application/vnd.jupyter.widget-view+json": {
       "model_id": "d0b5c2ffe97a489bb63f6a6a91cc3c79",
       "version_major": 2,
       "version_minor": 0
      },
      "text/plain": [
       "Creating Equivalence Classes...:   0%|          | 0/19 [00:00<?, ?it/s]"
      ]
     },
     "metadata": {},
     "output_type": "display_data"
    },
    {
     "name": "stdout",
     "output_type": "stream",
     "text": [
      "Move 1: 1.0\n",
      "Move 2: 0.9947368421052631\n"
     ]
    },
    {
     "data": {
      "application/vnd.jupyter.widget-view+json": {
       "model_id": "e83bfcf89825466889d1c812a45b93b0",
       "version_major": 2,
       "version_minor": 0
      },
      "text/plain": [
       "Creating Equivalence Classes...:   0%|          | 0/19 [00:00<?, ?it/s]"
      ]
     },
     "metadata": {},
     "output_type": "display_data"
    },
    {
     "data": {
      "application/vnd.jupyter.widget-view+json": {
       "model_id": "a649e3edaa364f12ace6e3c49dd3791a",
       "version_major": 2,
       "version_minor": 0
      },
      "text/plain": [
       "Creating Equivalence Classes...:   0%|          | 0/19 [00:00<?, ?it/s]"
      ]
     },
     "metadata": {},
     "output_type": "display_data"
    },
    {
     "name": "stdout",
     "output_type": "stream",
     "text": [
      "Move 1: 0.9947368421052631\n",
      "Move 2: 0.9789473684210527\n"
     ]
    },
    {
     "data": {
      "application/vnd.jupyter.widget-view+json": {
       "model_id": "d12c81e77edd4060a3995f3060c22e76",
       "version_major": 2,
       "version_minor": 0
      },
      "text/plain": [
       "Creating Equivalence Classes...:   0%|          | 0/19 [00:00<?, ?it/s]"
      ]
     },
     "metadata": {},
     "output_type": "display_data"
    },
    {
     "data": {
      "application/vnd.jupyter.widget-view+json": {
       "model_id": "ae5d347d2cfc4d9fa10694478eb515f1",
       "version_major": 2,
       "version_minor": 0
      },
      "text/plain": [
       "Creating Equivalence Classes...:   0%|          | 0/19 [00:00<?, ?it/s]"
      ]
     },
     "metadata": {},
     "output_type": "display_data"
    },
    {
     "name": "stdout",
     "output_type": "stream",
     "text": [
      "Move 1: 1.0\n",
      "Move 2: 0.9947368421052631\n"
     ]
    },
    {
     "data": {
      "application/vnd.jupyter.widget-view+json": {
       "model_id": "769e5e088f764b90b852124035cd6651",
       "version_major": 2,
       "version_minor": 0
      },
      "text/plain": [
       "Creating Equivalence Classes...:   0%|          | 0/19 [00:00<?, ?it/s]"
      ]
     },
     "metadata": {},
     "output_type": "display_data"
    },
    {
     "data": {
      "application/vnd.jupyter.widget-view+json": {
       "model_id": "da925df3852147bc8e71c466d41e53b6",
       "version_major": 2,
       "version_minor": 0
      },
      "text/plain": [
       "Creating Equivalence Classes...:   0%|          | 0/19 [00:00<?, ?it/s]"
      ]
     },
     "metadata": {},
     "output_type": "display_data"
    },
    {
     "name": "stdout",
     "output_type": "stream",
     "text": [
      "Move 1: 1.0\n",
      "Move 2: 1.0\n"
     ]
    },
    {
     "data": {
      "application/vnd.jupyter.widget-view+json": {
       "model_id": "143422c138ed44fca73adf768d8858f9",
       "version_major": 2,
       "version_minor": 0
      },
      "text/plain": [
       "Creating Equivalence Classes...:   0%|          | 0/19 [00:00<?, ?it/s]"
      ]
     },
     "metadata": {},
     "output_type": "display_data"
    },
    {
     "data": {
      "application/vnd.jupyter.widget-view+json": {
       "model_id": "2406932b26974874afbeb61e5c49a452",
       "version_major": 2,
       "version_minor": 0
      },
      "text/plain": [
       "Creating Equivalence Classes...:   0%|          | 0/19 [00:00<?, ?it/s]"
      ]
     },
     "metadata": {},
     "output_type": "display_data"
    },
    {
     "name": "stdout",
     "output_type": "stream",
     "text": [
      "Move 1: 1.0\n",
      "Move 2: 1.0\n"
     ]
    },
    {
     "data": {
      "application/vnd.jupyter.widget-view+json": {
       "model_id": "b249727908dc4691b903632c5b911875",
       "version_major": 2,
       "version_minor": 0
      },
      "text/plain": [
       "Creating Equivalence Classes...:   0%|          | 0/19 [00:00<?, ?it/s]"
      ]
     },
     "metadata": {},
     "output_type": "display_data"
    },
    {
     "data": {
      "application/vnd.jupyter.widget-view+json": {
       "model_id": "1e013c927be640659e08f2b0e0254069",
       "version_major": 2,
       "version_minor": 0
      },
      "text/plain": [
       "Creating Equivalence Classes...:   0%|          | 0/19 [00:00<?, ?it/s]"
      ]
     },
     "metadata": {},
     "output_type": "display_data"
    },
    {
     "name": "stdout",
     "output_type": "stream",
     "text": [
      "Move 1: 0.9894736842105263\n",
      "Move 2: 0.9789473684210527\n"
     ]
    },
    {
     "data": {
      "application/vnd.jupyter.widget-view+json": {
       "model_id": "a4d2393353f54c7b9c3e017595ecfc54",
       "version_major": 2,
       "version_minor": 0
      },
      "text/plain": [
       "Creating Equivalence Classes...:   0%|          | 0/19 [00:00<?, ?it/s]"
      ]
     },
     "metadata": {},
     "output_type": "display_data"
    },
    {
     "data": {
      "application/vnd.jupyter.widget-view+json": {
       "model_id": "f69592e9340d4522bd02fce2338c56cf",
       "version_major": 2,
       "version_minor": 0
      },
      "text/plain": [
       "Creating Equivalence Classes...:   0%|          | 0/19 [00:00<?, ?it/s]"
      ]
     },
     "metadata": {},
     "output_type": "display_data"
    },
    {
     "name": "stdout",
     "output_type": "stream",
     "text": [
      "Move 1: 0.9894736842105263\n",
      "Move 2: 0.9947368421052631\n"
     ]
    },
    {
     "data": {
      "application/vnd.jupyter.widget-view+json": {
       "model_id": "afb124228973458bb1758e9087ee267e",
       "version_major": 2,
       "version_minor": 0
      },
      "text/plain": [
       "Creating Equivalence Classes...:   0%|          | 0/19 [00:00<?, ?it/s]"
      ]
     },
     "metadata": {},
     "output_type": "display_data"
    },
    {
     "data": {
      "application/vnd.jupyter.widget-view+json": {
       "model_id": "7c748da344a440abb93a59bfb146d7dc",
       "version_major": 2,
       "version_minor": 0
      },
      "text/plain": [
       "Creating Equivalence Classes...:   0%|          | 0/19 [00:00<?, ?it/s]"
      ]
     },
     "metadata": {},
     "output_type": "display_data"
    },
    {
     "name": "stdout",
     "output_type": "stream",
     "text": [
      "Move 1: 0.9947368421052631\n",
      "Move 2: 0.9894736842105263\n"
     ]
    },
    {
     "data": {
      "application/vnd.jupyter.widget-view+json": {
       "model_id": "a3234a1af53948f489e5cf15714874bd",
       "version_major": 2,
       "version_minor": 0
      },
      "text/plain": [
       "Creating Equivalence Classes...:   0%|          | 0/19 [00:00<?, ?it/s]"
      ]
     },
     "metadata": {},
     "output_type": "display_data"
    },
    {
     "data": {
      "application/vnd.jupyter.widget-view+json": {
       "model_id": "8598c0b8dd6b4228b049c49c65abbe73",
       "version_major": 2,
       "version_minor": 0
      },
      "text/plain": [
       "Creating Equivalence Classes...:   0%|          | 0/19 [00:00<?, ?it/s]"
      ]
     },
     "metadata": {},
     "output_type": "display_data"
    },
    {
     "name": "stdout",
     "output_type": "stream",
     "text": [
      "Move 1: 0.9947368421052631\n",
      "Move 2: 0.9947368421052631\n"
     ]
    },
    {
     "data": {
      "application/vnd.jupyter.widget-view+json": {
       "model_id": "177fa733fcb64070993828bff0dc1f97",
       "version_major": 2,
       "version_minor": 0
      },
      "text/plain": [
       "Creating Equivalence Classes...:   0%|          | 0/19 [00:00<?, ?it/s]"
      ]
     },
     "metadata": {},
     "output_type": "display_data"
    },
    {
     "data": {
      "application/vnd.jupyter.widget-view+json": {
       "model_id": "7f091de13f7a4ac4b32e4ca5b28be989",
       "version_major": 2,
       "version_minor": 0
      },
      "text/plain": [
       "Creating Equivalence Classes...:   0%|          | 0/19 [00:00<?, ?it/s]"
      ]
     },
     "metadata": {},
     "output_type": "display_data"
    },
    {
     "name": "stdout",
     "output_type": "stream",
     "text": [
      "Move 1: 1.0\n",
      "Move 2: 0.9789473684210527\n"
     ]
    },
    {
     "data": {
      "application/vnd.jupyter.widget-view+json": {
       "model_id": "5828c618c3104a6f9b971bcea89ec0eb",
       "version_major": 2,
       "version_minor": 0
      },
      "text/plain": [
       "Creating Equivalence Classes...:   0%|          | 0/19 [00:00<?, ?it/s]"
      ]
     },
     "metadata": {},
     "output_type": "display_data"
    },
    {
     "data": {
      "application/vnd.jupyter.widget-view+json": {
       "model_id": "10c0e3f689334c77a2fdf8fa73442989",
       "version_major": 2,
       "version_minor": 0
      },
      "text/plain": [
       "Creating Equivalence Classes...:   0%|          | 0/19 [00:00<?, ?it/s]"
      ]
     },
     "metadata": {},
     "output_type": "display_data"
    },
    {
     "name": "stdout",
     "output_type": "stream",
     "text": [
      "Move 1: 0.9947368421052631\n",
      "Move 2: 0.9789473684210527\n"
     ]
    },
    {
     "data": {
      "application/vnd.jupyter.widget-view+json": {
       "model_id": "5663dbe0a065492e93a8499fbf254f8d",
       "version_major": 2,
       "version_minor": 0
      },
      "text/plain": [
       "Creating Equivalence Classes...:   0%|          | 0/19 [00:00<?, ?it/s]"
      ]
     },
     "metadata": {},
     "output_type": "display_data"
    },
    {
     "data": {
      "application/vnd.jupyter.widget-view+json": {
       "model_id": "aafe7efd3d9c49d18bbb88d38670c4cf",
       "version_major": 2,
       "version_minor": 0
      },
      "text/plain": [
       "Creating Equivalence Classes...:   0%|          | 0/19 [00:00<?, ?it/s]"
      ]
     },
     "metadata": {},
     "output_type": "display_data"
    },
    {
     "name": "stdout",
     "output_type": "stream",
     "text": [
      "Move 1: 0.9842105263157894\n",
      "Move 2: 1.0\n"
     ]
    },
    {
     "data": {
      "application/vnd.jupyter.widget-view+json": {
       "model_id": "70d9f7ecc3a842a885c769d2f008337b",
       "version_major": 2,
       "version_minor": 0
      },
      "text/plain": [
       "Creating Equivalence Classes...:   0%|          | 0/19 [00:00<?, ?it/s]"
      ]
     },
     "metadata": {},
     "output_type": "display_data"
    },
    {
     "data": {
      "application/vnd.jupyter.widget-view+json": {
       "model_id": "d5e28579d77e4cb1a761b08e1511b8ba",
       "version_major": 2,
       "version_minor": 0
      },
      "text/plain": [
       "Creating Equivalence Classes...:   0%|          | 0/19 [00:00<?, ?it/s]"
      ]
     },
     "metadata": {},
     "output_type": "display_data"
    },
    {
     "name": "stdout",
     "output_type": "stream",
     "text": [
      "Move 1: 0.9842105263157894\n",
      "Move 2: 0.968421052631579\n"
     ]
    },
    {
     "data": {
      "application/vnd.jupyter.widget-view+json": {
       "model_id": "22f9d4568778485cb933608cfb4aa9d7",
       "version_major": 2,
       "version_minor": 0
      },
      "text/plain": [
       "Creating Equivalence Classes...:   0%|          | 0/19 [00:00<?, ?it/s]"
      ]
     },
     "metadata": {},
     "output_type": "display_data"
    },
    {
     "data": {
      "application/vnd.jupyter.widget-view+json": {
       "model_id": "fd923511bbac49f48383756fd37f7f1a",
       "version_major": 2,
       "version_minor": 0
      },
      "text/plain": [
       "Creating Equivalence Classes...:   0%|          | 0/19 [00:00<?, ?it/s]"
      ]
     },
     "metadata": {},
     "output_type": "display_data"
    },
    {
     "name": "stdout",
     "output_type": "stream",
     "text": [
      "Move 1: 1.0\n",
      "Move 2: 0.9789473684210527\n"
     ]
    },
    {
     "data": {
      "application/vnd.jupyter.widget-view+json": {
       "model_id": "782793f96cd04812b367003e6e91ae4c",
       "version_major": 2,
       "version_minor": 0
      },
      "text/plain": [
       "Creating Equivalence Classes...:   0%|          | 0/19 [00:00<?, ?it/s]"
      ]
     },
     "metadata": {},
     "output_type": "display_data"
    },
    {
     "data": {
      "application/vnd.jupyter.widget-view+json": {
       "model_id": "cc8e7521662047f99431c3d4580ae1f7",
       "version_major": 2,
       "version_minor": 0
      },
      "text/plain": [
       "Creating Equivalence Classes...:   0%|          | 0/19 [00:00<?, ?it/s]"
      ]
     },
     "metadata": {},
     "output_type": "display_data"
    },
    {
     "name": "stdout",
     "output_type": "stream",
     "text": [
      "Move 1: 0.9947368421052631\n",
      "Move 2: 0.9947368421052631\n"
     ]
    },
    {
     "data": {
      "application/vnd.jupyter.widget-view+json": {
       "model_id": "539118e979bf4eb093dc50d6bf8afabf",
       "version_major": 2,
       "version_minor": 0
      },
      "text/plain": [
       "Creating Equivalence Classes...:   0%|          | 0/19 [00:00<?, ?it/s]"
      ]
     },
     "metadata": {},
     "output_type": "display_data"
    },
    {
     "data": {
      "application/vnd.jupyter.widget-view+json": {
       "model_id": "08dd64c72814449e9e749bcef2abae90",
       "version_major": 2,
       "version_minor": 0
      },
      "text/plain": [
       "Creating Equivalence Classes...:   0%|          | 0/19 [00:00<?, ?it/s]"
      ]
     },
     "metadata": {},
     "output_type": "display_data"
    },
    {
     "name": "stdout",
     "output_type": "stream",
     "text": [
      "Move 1: 1.0\n",
      "Move 2: 0.9210526315789473\n"
     ]
    },
    {
     "data": {
      "application/vnd.jupyter.widget-view+json": {
       "model_id": "7048d68f04de4ce9ab15aad843f3593e",
       "version_major": 2,
       "version_minor": 0
      },
      "text/plain": [
       "Creating Equivalence Classes...:   0%|          | 0/19 [00:00<?, ?it/s]"
      ]
     },
     "metadata": {},
     "output_type": "display_data"
    },
    {
     "data": {
      "application/vnd.jupyter.widget-view+json": {
       "model_id": "c99cc988cd0641dba722d8420100e173",
       "version_major": 2,
       "version_minor": 0
      },
      "text/plain": [
       "Creating Equivalence Classes...:   0%|          | 0/19 [00:00<?, ?it/s]"
      ]
     },
     "metadata": {},
     "output_type": "display_data"
    },
    {
     "name": "stdout",
     "output_type": "stream",
     "text": [
      "Move 1: 1.0\n",
      "Move 2: 0.9789473684210527\n"
     ]
    },
    {
     "data": {
      "application/vnd.jupyter.widget-view+json": {
       "model_id": "c9ce32e5de4f40a186615ed09bd1a8d3",
       "version_major": 2,
       "version_minor": 0
      },
      "text/plain": [
       "Creating Equivalence Classes...:   0%|          | 0/19 [00:00<?, ?it/s]"
      ]
     },
     "metadata": {},
     "output_type": "display_data"
    },
    {
     "data": {
      "application/vnd.jupyter.widget-view+json": {
       "model_id": "89aec92ae21a4c30ba47e42f861c3c2d",
       "version_major": 2,
       "version_minor": 0
      },
      "text/plain": [
       "Creating Equivalence Classes...:   0%|          | 0/19 [00:00<?, ?it/s]"
      ]
     },
     "metadata": {},
     "output_type": "display_data"
    },
    {
     "name": "stdout",
     "output_type": "stream",
     "text": [
      "Move 1: 0.9842105263157894\n",
      "Move 2: 0.9789473684210527\n"
     ]
    },
    {
     "data": {
      "application/vnd.jupyter.widget-view+json": {
       "model_id": "f97dc5b3d22343908191dd9d05fefc59",
       "version_major": 2,
       "version_minor": 0
      },
      "text/plain": [
       "Creating Equivalence Classes...:   0%|          | 0/19 [00:00<?, ?it/s]"
      ]
     },
     "metadata": {},
     "output_type": "display_data"
    },
    {
     "data": {
      "application/vnd.jupyter.widget-view+json": {
       "model_id": "09cd0aee6c254ba5b511ffc3848ae584",
       "version_major": 2,
       "version_minor": 0
      },
      "text/plain": [
       "Creating Equivalence Classes...:   0%|          | 0/19 [00:00<?, ?it/s]"
      ]
     },
     "metadata": {},
     "output_type": "display_data"
    },
    {
     "name": "stdout",
     "output_type": "stream",
     "text": [
      "Move 1: 1.0\n",
      "Move 2: 0.9947368421052631\n"
     ]
    },
    {
     "data": {
      "application/vnd.jupyter.widget-view+json": {
       "model_id": "cadbc5bab6b14bb98a7b0daa0134953c",
       "version_major": 2,
       "version_minor": 0
      },
      "text/plain": [
       "Creating Equivalence Classes...:   0%|          | 0/19 [00:00<?, ?it/s]"
      ]
     },
     "metadata": {},
     "output_type": "display_data"
    },
    {
     "data": {
      "application/vnd.jupyter.widget-view+json": {
       "model_id": "dd77b9d5abf247af8e3f6bd18fbbeba9",
       "version_major": 2,
       "version_minor": 0
      },
      "text/plain": [
       "Creating Equivalence Classes...:   0%|          | 0/19 [00:00<?, ?it/s]"
      ]
     },
     "metadata": {},
     "output_type": "display_data"
    },
    {
     "name": "stdout",
     "output_type": "stream",
     "text": [
      "Move 1: 1.0\n",
      "Move 2: 0.9947368421052631\n"
     ]
    },
    {
     "data": {
      "application/vnd.jupyter.widget-view+json": {
       "model_id": "d3c00d42d173415dbd6c115492a72c64",
       "version_major": 2,
       "version_minor": 0
      },
      "text/plain": [
       "getting bidirs:   0%|          | 0/20 [00:00<?, ?it/s]"
      ]
     },
     "metadata": {},
     "output_type": "display_data"
    },
    {
     "data": {
      "application/vnd.jupyter.widget-view+json": {
       "model_id": "dbe7ea3f260f41c199d67f28cf2ab690",
       "version_major": 2,
       "version_minor": 0
      },
      "text/plain": [
       "Creating Equivalence Classes...:   0%|          | 0/19 [00:00<?, ?it/s]"
      ]
     },
     "metadata": {},
     "output_type": "display_data"
    },
    {
     "data": {
      "application/vnd.jupyter.widget-view+json": {
       "model_id": "c13614701b774ac8afb5b324e9b0d02a",
       "version_major": 2,
       "version_minor": 0
      },
      "text/plain": [
       "Creating Equivalence Classes...:   0%|          | 0/19 [00:00<?, ?it/s]"
      ]
     },
     "metadata": {},
     "output_type": "display_data"
    },
    {
     "name": "stdout",
     "output_type": "stream",
     "text": [
      "Move 1: 1.0\n",
      "Move 2: 0.9947368421052631\n"
     ]
    },
    {
     "data": {
      "application/vnd.jupyter.widget-view+json": {
       "model_id": "96e484259e064f59aba130b129aa6e8f",
       "version_major": 2,
       "version_minor": 0
      },
      "text/plain": [
       "Creating Equivalence Classes...:   0%|          | 0/19 [00:00<?, ?it/s]"
      ]
     },
     "metadata": {},
     "output_type": "display_data"
    },
    {
     "data": {
      "application/vnd.jupyter.widget-view+json": {
       "model_id": "af4960634f3f45699b8210366a826548",
       "version_major": 2,
       "version_minor": 0
      },
      "text/plain": [
       "Creating Equivalence Classes...:   0%|          | 0/19 [00:00<?, ?it/s]"
      ]
     },
     "metadata": {},
     "output_type": "display_data"
    },
    {
     "name": "stdout",
     "output_type": "stream",
     "text": [
      "Move 1: 0.9894736842105263\n",
      "Move 2: 0.9947368421052631\n"
     ]
    },
    {
     "data": {
      "application/vnd.jupyter.widget-view+json": {
       "model_id": "bf8fa43edf7d431f976384261b5fc178",
       "version_major": 2,
       "version_minor": 0
      },
      "text/plain": [
       "Creating Equivalence Classes...:   0%|          | 0/19 [00:00<?, ?it/s]"
      ]
     },
     "metadata": {},
     "output_type": "display_data"
    },
    {
     "data": {
      "application/vnd.jupyter.widget-view+json": {
       "model_id": "01ef6c5cc5c144ea9f268b39d1db50a0",
       "version_major": 2,
       "version_minor": 0
      },
      "text/plain": [
       "Creating Equivalence Classes...:   0%|          | 0/19 [00:00<?, ?it/s]"
      ]
     },
     "metadata": {},
     "output_type": "display_data"
    },
    {
     "name": "stdout",
     "output_type": "stream",
     "text": [
      "Move 1: 1.0\n",
      "Move 2: 0.9947368421052631\n"
     ]
    },
    {
     "data": {
      "application/vnd.jupyter.widget-view+json": {
       "model_id": "9a3970c39bc64c228f69cbe58842ec92",
       "version_major": 2,
       "version_minor": 0
      },
      "text/plain": [
       "Creating Equivalence Classes...:   0%|          | 0/19 [00:00<?, ?it/s]"
      ]
     },
     "metadata": {},
     "output_type": "display_data"
    },
    {
     "data": {
      "application/vnd.jupyter.widget-view+json": {
       "model_id": "fc65c1f3ba754b388369d2c5628aa9ba",
       "version_major": 2,
       "version_minor": 0
      },
      "text/plain": [
       "Creating Equivalence Classes...:   0%|          | 0/19 [00:00<?, ?it/s]"
      ]
     },
     "metadata": {},
     "output_type": "display_data"
    },
    {
     "name": "stdout",
     "output_type": "stream",
     "text": [
      "Move 1: 0.9894736842105263\n",
      "Move 2: 0.9947368421052631\n"
     ]
    },
    {
     "data": {
      "application/vnd.jupyter.widget-view+json": {
       "model_id": "09b990a2481143c7909cf6aca935c34f",
       "version_major": 2,
       "version_minor": 0
      },
      "text/plain": [
       "Creating Equivalence Classes...:   0%|          | 0/19 [00:00<?, ?it/s]"
      ]
     },
     "metadata": {},
     "output_type": "display_data"
    },
    {
     "data": {
      "application/vnd.jupyter.widget-view+json": {
       "model_id": "1f114d31d7a0461db9305ec69253e26b",
       "version_major": 2,
       "version_minor": 0
      },
      "text/plain": [
       "Creating Equivalence Classes...:   0%|          | 0/19 [00:00<?, ?it/s]"
      ]
     },
     "metadata": {},
     "output_type": "display_data"
    },
    {
     "name": "stdout",
     "output_type": "stream",
     "text": [
      "Move 1: 0.9947368421052631\n",
      "Move 2: 0.9842105263157894\n"
     ]
    },
    {
     "data": {
      "application/vnd.jupyter.widget-view+json": {
       "model_id": "78c58512f5644fd2ba092134ea41c406",
       "version_major": 2,
       "version_minor": 0
      },
      "text/plain": [
       "Creating Equivalence Classes...:   0%|          | 0/19 [00:00<?, ?it/s]"
      ]
     },
     "metadata": {},
     "output_type": "display_data"
    },
    {
     "data": {
      "application/vnd.jupyter.widget-view+json": {
       "model_id": "d55cd9a8f1a34cf59e1faa9a3cee8e24",
       "version_major": 2,
       "version_minor": 0
      },
      "text/plain": [
       "Creating Equivalence Classes...:   0%|          | 0/19 [00:00<?, ?it/s]"
      ]
     },
     "metadata": {},
     "output_type": "display_data"
    },
    {
     "name": "stdout",
     "output_type": "stream",
     "text": [
      "Move 1: 1.0\n",
      "Move 2: 0.9947368421052631\n"
     ]
    },
    {
     "data": {
      "application/vnd.jupyter.widget-view+json": {
       "model_id": "3d10e5b9ed6f495aa2ee6a172583e34f",
       "version_major": 2,
       "version_minor": 0
      },
      "text/plain": [
       "Creating Equivalence Classes...:   0%|          | 0/19 [00:00<?, ?it/s]"
      ]
     },
     "metadata": {},
     "output_type": "display_data"
    },
    {
     "data": {
      "application/vnd.jupyter.widget-view+json": {
       "model_id": "71d0edb49ca94762af65e2f40c2f6b8c",
       "version_major": 2,
       "version_minor": 0
      },
      "text/plain": [
       "Creating Equivalence Classes...:   0%|          | 0/19 [00:00<?, ?it/s]"
      ]
     },
     "metadata": {},
     "output_type": "display_data"
    },
    {
     "name": "stdout",
     "output_type": "stream",
     "text": [
      "Move 1: 1.0\n",
      "Move 2: 0.9947368421052631\n"
     ]
    },
    {
     "data": {
      "application/vnd.jupyter.widget-view+json": {
       "model_id": "93a7f8794af0416eb884c5a1e0950e33",
       "version_major": 2,
       "version_minor": 0
      },
      "text/plain": [
       "Creating Equivalence Classes...:   0%|          | 0/19 [00:00<?, ?it/s]"
      ]
     },
     "metadata": {},
     "output_type": "display_data"
    },
    {
     "data": {
      "application/vnd.jupyter.widget-view+json": {
       "model_id": "108bf678b6fc40e3bea6d4cbe2ef556a",
       "version_major": 2,
       "version_minor": 0
      },
      "text/plain": [
       "Creating Equivalence Classes...:   0%|          | 0/19 [00:00<?, ?it/s]"
      ]
     },
     "metadata": {},
     "output_type": "display_data"
    },
    {
     "name": "stdout",
     "output_type": "stream",
     "text": [
      "Move 1: 0.9947368421052631\n",
      "Move 2: 1.0\n"
     ]
    },
    {
     "data": {
      "application/vnd.jupyter.widget-view+json": {
       "model_id": "5a7fd2c60c6e47468d4bc2f8e2dfed59",
       "version_major": 2,
       "version_minor": 0
      },
      "text/plain": [
       "Creating Equivalence Classes...:   0%|          | 0/19 [00:00<?, ?it/s]"
      ]
     },
     "metadata": {},
     "output_type": "display_data"
    },
    {
     "data": {
      "application/vnd.jupyter.widget-view+json": {
       "model_id": "218906b769264d8096fda6ed955118f1",
       "version_major": 2,
       "version_minor": 0
      },
      "text/plain": [
       "Creating Equivalence Classes...:   0%|          | 0/19 [00:00<?, ?it/s]"
      ]
     },
     "metadata": {},
     "output_type": "display_data"
    },
    {
     "name": "stdout",
     "output_type": "stream",
     "text": [
      "Move 1: 1.0\n",
      "Move 2: 0.9947368421052631\n"
     ]
    },
    {
     "data": {
      "application/vnd.jupyter.widget-view+json": {
       "model_id": "c124ab99c15f4a579bce7b1b5c09c7c1",
       "version_major": 2,
       "version_minor": 0
      },
      "text/plain": [
       "Creating Equivalence Classes...:   0%|          | 0/19 [00:00<?, ?it/s]"
      ]
     },
     "metadata": {},
     "output_type": "display_data"
    },
    {
     "data": {
      "application/vnd.jupyter.widget-view+json": {
       "model_id": "cf00af5b846e47f19078edd3d219d747",
       "version_major": 2,
       "version_minor": 0
      },
      "text/plain": [
       "Creating Equivalence Classes...:   0%|          | 0/19 [00:00<?, ?it/s]"
      ]
     },
     "metadata": {},
     "output_type": "display_data"
    },
    {
     "name": "stdout",
     "output_type": "stream",
     "text": [
      "Move 1: 0.9947368421052631\n",
      "Move 2: 0.9894736842105263\n"
     ]
    },
    {
     "data": {
      "application/vnd.jupyter.widget-view+json": {
       "model_id": "e4bcfd7e22a5471bb87cf8655e7faaf2",
       "version_major": 2,
       "version_minor": 0
      },
      "text/plain": [
       "Creating Equivalence Classes...:   0%|          | 0/19 [00:00<?, ?it/s]"
      ]
     },
     "metadata": {},
     "output_type": "display_data"
    },
    {
     "data": {
      "application/vnd.jupyter.widget-view+json": {
       "model_id": "69217663a68b4734b109af01ef75f46d",
       "version_major": 2,
       "version_minor": 0
      },
      "text/plain": [
       "Creating Equivalence Classes...:   0%|          | 0/19 [00:00<?, ?it/s]"
      ]
     },
     "metadata": {},
     "output_type": "display_data"
    },
    {
     "name": "stdout",
     "output_type": "stream",
     "text": [
      "Move 1: 0.9947368421052631\n",
      "Move 2: 0.9842105263157894\n"
     ]
    },
    {
     "data": {
      "application/vnd.jupyter.widget-view+json": {
       "model_id": "a06f6fc2076c498ba76138a04dc8acae",
       "version_major": 2,
       "version_minor": 0
      },
      "text/plain": [
       "Creating Equivalence Classes...:   0%|          | 0/19 [00:00<?, ?it/s]"
      ]
     },
     "metadata": {},
     "output_type": "display_data"
    },
    {
     "data": {
      "application/vnd.jupyter.widget-view+json": {
       "model_id": "6d4fc2f6e0294482aa9e359eda9b6ed2",
       "version_major": 2,
       "version_minor": 0
      },
      "text/plain": [
       "Creating Equivalence Classes...:   0%|          | 0/19 [00:00<?, ?it/s]"
      ]
     },
     "metadata": {},
     "output_type": "display_data"
    },
    {
     "name": "stdout",
     "output_type": "stream",
     "text": [
      "Move 1: 0.9947368421052631\n",
      "Move 2: 0.9947368421052631\n"
     ]
    },
    {
     "data": {
      "application/vnd.jupyter.widget-view+json": {
       "model_id": "188a85cba85a40f0a5d17a386392112a",
       "version_major": 2,
       "version_minor": 0
      },
      "text/plain": [
       "Creating Equivalence Classes...:   0%|          | 0/19 [00:00<?, ?it/s]"
      ]
     },
     "metadata": {},
     "output_type": "display_data"
    },
    {
     "data": {
      "application/vnd.jupyter.widget-view+json": {
       "model_id": "940622394ae2425f99aa285fa2cf55a1",
       "version_major": 2,
       "version_minor": 0
      },
      "text/plain": [
       "Creating Equivalence Classes...:   0%|          | 0/19 [00:00<?, ?it/s]"
      ]
     },
     "metadata": {},
     "output_type": "display_data"
    },
    {
     "name": "stdout",
     "output_type": "stream",
     "text": [
      "Move 1: 1.0\n",
      "Move 2: 1.0\n"
     ]
    },
    {
     "data": {
      "application/vnd.jupyter.widget-view+json": {
       "model_id": "c5a5068f7ee146888b85ac78cb516991",
       "version_major": 2,
       "version_minor": 0
      },
      "text/plain": [
       "Creating Equivalence Classes...:   0%|          | 0/19 [00:00<?, ?it/s]"
      ]
     },
     "metadata": {},
     "output_type": "display_data"
    },
    {
     "data": {
      "application/vnd.jupyter.widget-view+json": {
       "model_id": "5e2901cb88924adf8ce0ed28196acec7",
       "version_major": 2,
       "version_minor": 0
      },
      "text/plain": [
       "Creating Equivalence Classes...:   0%|          | 0/19 [00:00<?, ?it/s]"
      ]
     },
     "metadata": {},
     "output_type": "display_data"
    },
    {
     "name": "stdout",
     "output_type": "stream",
     "text": [
      "Move 1: 1.0\n",
      "Move 2: 0.9789473684210527\n"
     ]
    },
    {
     "data": {
      "application/vnd.jupyter.widget-view+json": {
       "model_id": "24a31e76707641d79f413859c6a7e886",
       "version_major": 2,
       "version_minor": 0
      },
      "text/plain": [
       "Creating Equivalence Classes...:   0%|          | 0/19 [00:00<?, ?it/s]"
      ]
     },
     "metadata": {},
     "output_type": "display_data"
    },
    {
     "data": {
      "application/vnd.jupyter.widget-view+json": {
       "model_id": "fcaad2ec690941eca29490bf8c304a91",
       "version_major": 2,
       "version_minor": 0
      },
      "text/plain": [
       "Creating Equivalence Classes...:   0%|          | 0/19 [00:00<?, ?it/s]"
      ]
     },
     "metadata": {},
     "output_type": "display_data"
    },
    {
     "name": "stdout",
     "output_type": "stream",
     "text": [
      "Move 1: 1.0\n",
      "Move 2: 0.9947368421052631\n"
     ]
    },
    {
     "data": {
      "application/vnd.jupyter.widget-view+json": {
       "model_id": "a2f74792e48b479b9a3d5f356306ee4c",
       "version_major": 2,
       "version_minor": 0
      },
      "text/plain": [
       "Creating Equivalence Classes...:   0%|          | 0/19 [00:00<?, ?it/s]"
      ]
     },
     "metadata": {},
     "output_type": "display_data"
    },
    {
     "data": {
      "application/vnd.jupyter.widget-view+json": {
       "model_id": "ebec342ee6534e23abe669d8beafc98c",
       "version_major": 2,
       "version_minor": 0
      },
      "text/plain": [
       "Creating Equivalence Classes...:   0%|          | 0/19 [00:00<?, ?it/s]"
      ]
     },
     "metadata": {},
     "output_type": "display_data"
    },
    {
     "name": "stdout",
     "output_type": "stream",
     "text": [
      "Move 1: 1.0\n",
      "Move 2: 0.9947368421052631\n"
     ]
    },
    {
     "data": {
      "application/vnd.jupyter.widget-view+json": {
       "model_id": "2019ecf921d74f83b01f941e91199588",
       "version_major": 2,
       "version_minor": 0
      },
      "text/plain": [
       "Creating Equivalence Classes...:   0%|          | 0/19 [00:00<?, ?it/s]"
      ]
     },
     "metadata": {},
     "output_type": "display_data"
    },
    {
     "data": {
      "application/vnd.jupyter.widget-view+json": {
       "model_id": "209cf134908c446bb540c827a30af838",
       "version_major": 2,
       "version_minor": 0
      },
      "text/plain": [
       "Creating Equivalence Classes...:   0%|          | 0/19 [00:00<?, ?it/s]"
      ]
     },
     "metadata": {},
     "output_type": "display_data"
    },
    {
     "name": "stdout",
     "output_type": "stream",
     "text": [
      "Move 1: 0.9789473684210527\n",
      "Move 2: 0.9947368421052631\n"
     ]
    },
    {
     "data": {
      "application/vnd.jupyter.widget-view+json": {
       "model_id": "cf32ed52ddfe46978520dc4fe1f07069",
       "version_major": 2,
       "version_minor": 0
      },
      "text/plain": [
       "Creating Equivalence Classes...:   0%|          | 0/19 [00:00<?, ?it/s]"
      ]
     },
     "metadata": {},
     "output_type": "display_data"
    },
    {
     "data": {
      "application/vnd.jupyter.widget-view+json": {
       "model_id": "5c7c541e6ea9408986280aa30ae827b1",
       "version_major": 2,
       "version_minor": 0
      },
      "text/plain": [
       "Creating Equivalence Classes...:   0%|          | 0/19 [00:00<?, ?it/s]"
      ]
     },
     "metadata": {},
     "output_type": "display_data"
    },
    {
     "name": "stdout",
     "output_type": "stream",
     "text": [
      "Move 1: 1.0\n",
      "Move 2: 0.9736842105263158\n"
     ]
    },
    {
     "data": {
      "application/vnd.jupyter.widget-view+json": {
       "model_id": "52f764ce4b3c44619be6bf1a1b734290",
       "version_major": 2,
       "version_minor": 0
      },
      "text/plain": [
       "Creating Equivalence Classes...:   0%|          | 0/19 [00:00<?, ?it/s]"
      ]
     },
     "metadata": {},
     "output_type": "display_data"
    },
    {
     "data": {
      "application/vnd.jupyter.widget-view+json": {
       "model_id": "e2065d7698f548ecb612ef8353b6cc07",
       "version_major": 2,
       "version_minor": 0
      },
      "text/plain": [
       "Creating Equivalence Classes...:   0%|          | 0/19 [00:00<?, ?it/s]"
      ]
     },
     "metadata": {},
     "output_type": "display_data"
    },
    {
     "name": "stdout",
     "output_type": "stream",
     "text": [
      "Move 1: 0.9947368421052631\n",
      "Move 2: 1.0\n"
     ]
    },
    {
     "data": {
      "application/vnd.jupyter.widget-view+json": {
       "model_id": "f565d51b0b924869bf8a2b32c4fc9e43",
       "version_major": 2,
       "version_minor": 0
      },
      "text/plain": [
       "Creating Equivalence Classes...:   0%|          | 0/19 [00:00<?, ?it/s]"
      ]
     },
     "metadata": {},
     "output_type": "display_data"
    },
    {
     "data": {
      "application/vnd.jupyter.widget-view+json": {
       "model_id": "165bde2c4cb746b0925bf3b32a3fb60f",
       "version_major": 2,
       "version_minor": 0
      },
      "text/plain": [
       "Creating Equivalence Classes...:   0%|          | 0/19 [00:00<?, ?it/s]"
      ]
     },
     "metadata": {},
     "output_type": "display_data"
    },
    {
     "name": "stdout",
     "output_type": "stream",
     "text": [
      "Move 1: 0.9947368421052631\n",
      "Move 2: 0.9789473684210527\n"
     ]
    }
   ],
   "source": [
    "dfs = []\n",
    "for path in paths:\n",
    "    data = get_scores(path)\n",
    "    df = pd.DataFrame(data).T\n",
    "    df.columns = ['Move 1', 'Move 2']\n",
    "\n",
    "    dfs.append(df)\n",
    "\n",
    "for i, path in enumerate(paths):\n",
    "    path = re.sub('outputs', 'consistency', path) + '/regularbidirconsistency.csv'\n",
    "    dfs[i].to_csv(path)"
   ]
  },
  {
   "cell_type": "code",
   "execution_count": null,
   "id": "5ed6b035-81cf-4656-9b73-f755ed8c2eec",
   "metadata": {},
   "outputs": [],
   "source": []
  }
 ],
 "metadata": {
  "kernelspec": {
   "display_name": "Python 3 (ipykernel)",
   "language": "python",
   "name": "python3"
  },
  "language_info": {
   "codemirror_mode": {
    "name": "ipython",
    "version": 3
   },
   "file_extension": ".py",
   "mimetype": "text/x-python",
   "name": "python",
   "nbconvert_exporter": "python",
   "pygments_lexer": "ipython3",
   "version": "3.12.1"
  }
 },
 "nbformat": 4,
 "nbformat_minor": 5
}
