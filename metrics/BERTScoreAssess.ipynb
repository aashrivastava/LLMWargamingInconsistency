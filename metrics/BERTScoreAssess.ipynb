{
 "cells": [
  {
   "cell_type": "code",
   "execution_count": 2,
   "id": "fd77cb70-b8c1-4782-8908-d21194ef9b77",
   "metadata": {},
   "outputs": [],
   "source": [
    "from BERTScoreEval import BERTScoreEval\n",
    "from bert_score import BERTScorer\n",
    "from tqdm.auto import tqdm\n",
    "from transformers import AutoTokenizer"
   ]
  },
  {
   "cell_type": "code",
   "execution_count": 4,
   "id": "12b7ad6b",
   "metadata": {},
   "outputs": [],
   "source": [
    "def get_tokenizer(model, use_fast=False):\n",
    "    tokenizer = AutoTokenizer.from_pretrained(model, use_fast=use_fast)\n",
    "    \n",
    "    return tokenizer"
   ]
  },
  {
   "cell_type": "code",
   "execution_count": 29,
   "id": "52752691",
   "metadata": {},
   "outputs": [],
   "source": [
    "tokenizer = get_tokenizer('microsoft/deberta-xlarge-mnli')"
   ]
  },
  {
   "cell_type": "code",
   "execution_count": 31,
   "id": "9091bb61",
   "metadata": {},
   "outputs": [],
   "source": [
    "def get_len_tokenized(tokenizer, sent):\n",
    "    tokens = tokenizer.tokenize(sent)\n",
    "    \n",
    "    return len(tokens), tokens"
   ]
  },
  {
   "cell_type": "code",
   "execution_count": 34,
   "id": "8ce461b3",
   "metadata": {},
   "outputs": [
    {
     "data": {
      "text/plain": [
       "(10,\n",
       " ['The',\n",
       "  'Ġforest',\n",
       "  'Ġwas',\n",
       "  'Ġalive',\n",
       "  'Ġwith',\n",
       "  'Ġthe',\n",
       "  'Ġsound',\n",
       "  'Ġof',\n",
       "  'Ġbirds',\n",
       "  '.'])"
      ]
     },
     "execution_count": 34,
     "metadata": {},
     "output_type": "execute_result"
    }
   ],
   "source": [
    "get_len_tokenized(tokenizer, 'The forest was alive with the sound of birds.')"
   ]
  },
  {
   "cell_type": "code",
   "execution_count": null,
   "id": "e0290d23",
   "metadata": {},
   "outputs": [],
   "source": []
  }
 ],
 "metadata": {
  "kernelspec": {
   "display_name": "Python 3 (ipykernel)",
   "language": "python",
   "name": "python3"
  },
  "language_info": {
   "codemirror_mode": {
    "name": "ipython",
    "version": 3
   },
   "file_extension": ".py",
   "mimetype": "text/x-python",
   "name": "python",
   "nbconvert_exporter": "python",
   "pygments_lexer": "ipython3",
   "version": "3.12.1"
  }
 },
 "nbformat": 4,
 "nbformat_minor": 5
}
